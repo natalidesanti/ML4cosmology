{
 "cells": [
  {
   "cell_type": "markdown",
   "id": "6d2ace59-e674-4373-b4f4-90805922cdd5",
   "metadata": {},
   "source": [
    "# Red or blue galaxies?\n",
    "\n",
    "### By: [Natalí S. M. de Santi](https://natalidesanti.github.io)\n",
    "\n",
    "In this notebook we will see how to predict if a galaxy is **red** or **blue** using some galaxy properties and a ML method called **Random Forest** (RF)"
   ]
  },
  {
   "cell_type": "markdown",
   "id": "164b92ed-f149-4a1e-83bd-a40462770f87",
   "metadata": {},
   "source": [
    "## Summary\n",
    "\n",
    "1) Running options\n",
    "2) Motivation\n",
    "3) Libraries required\n",
    "4) Handling data\n",
    "5) Random Forest"
   ]
  },
  {
   "cell_type": "markdown",
   "id": "d53ce258-1a2c-4129-94ae-7f1e5248c476",
   "metadata": {},
   "source": [
    "## 1) Running options\n",
    "\n",
    "* **On the fly:** you can easily open it in `google colab`: [![Open this notebook in Colab](https://colab.research.google.com/assets/colab-badge.svg)](https://colab.research.google.com/github.com/natalidesanti/ML4cosmology/blob/main/notebooks/redXblue.ipynb)\n",
    "* **On your won computer:** you can download the notebook and work on this. Just make sure you have all the libraries installed"
   ]
  },
  {
   "cell_type": "markdown",
   "id": "0de13290-a8d5-47a5-a553-6a3e563231ef",
   "metadata": {},
   "source": [
    "## 2) Motivation\n",
    "\n",
    "One of the main galaxies properties is **color**, due to the fact that we primary measure galaxy **magnitudes** (a measure of luminosity),\n",
    "what composes the well-known **galaxy color-magnitude diagram**:\n",
    "\n",
    "![](https://upload.wikimedia.org/wikipedia/commons/thumb/9/96/Galaxy_color-magnitude_diagram-en.svg/300px-Galaxy_color-magnitude_diagram-en.svg.png)\n",
    "###### [Image source: [Wikipedia](https://en.wikipedia.org/wiki/Galaxy_color–magnitude_diagram)]\n",
    "\n",
    "Galaxy color is a way to start describing a bunch of other galaxy properties: e.g. _red galaxies_ are tipically _elliptical_, while _blue_ galaxies are tipically _spirals_.\n",
    "\n",
    "If you are interested on knowing more about galaxy properties, take a look at these amazing papers:\n",
    "\n",
    "* Donnary et al. [arXiv:1812.07584](https://arxiv.org/abs/1812.07584)\n",
    "* Bell et al. [arxiv:0303394](https://arxiv.org/abs/astro-ph/0303394)\n",
    "* Conselice et al. [arXiv:0610016](https://arxiv.org/abs/astro-ph/0610016)"
   ]
  },
  {
   "cell_type": "markdown",
   "id": "5a757e13-38db-4fdb-84bf-e594306b4cea",
   "metadata": {},
   "source": [
    "## Libraries required\n",
    "\n",
    "Many of these libraries can be installed using the following command line:\n",
    "\n",
    "`pip install name_of_the_library`\n",
    "\n",
    "\n",
    "Fell free to reach me out if you do not get enough resources online, regarding their installation."
   ]
  },
  {
   "cell_type": "code",
   "execution_count": 3,
   "id": "b2a96ed8-8510-431f-8d7f-59cda42f966f",
   "metadata": {},
   "outputs": [],
   "source": [
    "import numpy as np\n",
    "import pandas as pd\n",
    "import h5py\n",
    "import matplotlib.pyplot as plt\n",
    "import seaborn as sns\n",
    "from sklearn.model_selection import train_test_split\n",
    "from sklearn.ensemble import RandomForestClassifier\n",
    "from sklearn.metrics import accuracy_score\n",
    "from sklearn.metrics import precision_score\n",
    "from sklearn.metrics import recall_score\n",
    "from sklearn.metrics import f1_score\n",
    "from sklearn.metrics import roc_auc_score\n",
    "from sklearn.metrics import confusion_matrix\n",
    "from sklearn.metrics import log_loss"
   ]
  },
  {
   "cell_type": "markdown",
   "id": "e83260cb-380f-4523-b254-03bdbfc43127",
   "metadata": {},
   "source": [
    "## 4) Handling data\n",
    "\n",
    "First things first, what is the dataset we are going to use?\n",
    "\n",
    "It is a [IllustrisTNG](https://www.tng-project.org) box from a single snapshot (z = 0) from the [CAMELS]((https://camels.readthedocs.io/en/latest/)) simulations.\n",
    "A complete description of the simulations and data, as well how to download more data, is given in the CAMELS [webpage](https://camels.readthedocs.io/en/latest/subfind.html) documentation page."
   ]
  },
  {
   "cell_type": "markdown",
   "id": "b29b0731-3126-4348-9bc7-25c133b36c4d",
   "metadata": {},
   "source": [
    "### 4.1) Getting and analysing the data\n",
    "\n",
    "We can download the data using:"
   ]
  },
  {
   "cell_type": "code",
   "execution_count": 5,
   "id": "0893d44a-fc91-4a47-b5cb-a08c6cf64262",
   "metadata": {},
   "outputs": [
    {
     "name": "stdout",
     "output_type": "stream",
     "text": [
      "zsh:1: no matches found: https://www.dropbox.com/scl/fi/c7wrsplqjr5b0xwgy1cri/fof_subhalo_tab_033.hdf5?rlkey=1hve3qo7nrdh5qolesfclhlf5\n"
     ]
    }
   ],
   "source": [
    "!wget -q -nc -O data/fof_subhalo_tab_033.hdf5 https://www.dropbox.com/scl/fi/c7wrsplqjr5b0xwgy1cri/fof_subhalo_tab_033.hdf5?rlkey=1hve3qo7nrdh5qolesfclhlf5&dl=0"
   ]
  },
  {
   "cell_type": "markdown",
   "id": "035367cc-7ecc-4529-ab8c-39f2f1dad400",
   "metadata": {},
   "source": [
    "**IllustrisTNG** data is a `.hdf5` file. \n",
    "We can read the content using the library `h5py`. \n",
    "We use the `with` method to ensure that the file is properly opened and closed each time we access it, and specify the `r` to make it clear we are *reading* from the file, not writing. \n",
    "We can see what the top level groups and datasets are using the `keys` method:"
   ]
  },
  {
   "cell_type": "code",
   "execution_count": 6,
   "id": "6a7aa4c4-6144-431a-816b-022d66558f02",
   "metadata": {},
   "outputs": [
    {
     "name": "stdout",
     "output_type": "stream",
     "text": [
      "<KeysViewHDF5 ['Config', 'Group', 'Header', 'IDs', 'Parameters', 'Subhalo']>\n"
     ]
    }
   ],
   "source": [
    "with h5py.File('../data/fof_subhalo_tab_033.hdf5', 'r') as f:\n",
    "    print(f.keys())"
   ]
  },
  {
   "cell_type": "markdown",
   "id": "06612c60-9325-40c6-9be9-820b43b3513d",
   "metadata": {},
   "source": [
    "The cosmological information used to run this simulation can be obtained using:"
   ]
  },
  {
   "cell_type": "code",
   "execution_count": 7,
   "id": "7c914245-f7a9-4e87-94f3-914eb1abe047",
   "metadata": {},
   "outputs": [],
   "source": [
    "with h5py.File('../data/fof_subhalo_tab_033.hdf5', 'r') as f:\n",
    "    BoxSize      = f['Header'].attrs[u'BoxSize']/1e3    #size of the snapshot in comoving Mpc/h\n",
    "    redshift     = f['Header'].attrs[u'Redshift']       #reshift of the snapshot\n",
    "    scale_factor = f['Header'].attrs[u'Time']           #scale factor\n",
    "    h            = f['Header'].attrs[u'HubbleParam']    #value of the hubble parameter in 100 km/s/(Mpc/h)\n",
    "    Omega_m      = f['Header'].attrs[u'Omega0']         #Omega_matter\n",
    "    Omega_L      = f['Header'].attrs[u'OmegaLambda']    #Omega_baryon"
   ]
  },
  {
   "cell_type": "code",
   "execution_count": 8,
   "id": "ed14c0fc-af7d-46b2-90ed-7bdfb1d2d821",
   "metadata": {},
   "outputs": [
    {
     "name": "stdout",
     "output_type": "stream",
     "text": [
      "Box size:                 25.00 Mpc/h\n",
      "snapshot redshift:        0.00\n",
      "Omega_m:                  0.300\n",
      "Omega_L:                  0.700\n"
     ]
    }
   ],
   "source": [
    "print('Box size:                 %.2f Mpc/h'%BoxSize)\n",
    "print('snapshot redshift:        %.2f'%redshift)\n",
    "print('Omega_m:                  %.3f'%Omega_m)\n",
    "print('Omega_L:                  %.3f'%Omega_L)"
   ]
  },
  {
   "cell_type": "markdown",
   "id": "f8d6a264-ba7e-4765-b514-c19362f85a6d",
   "metadata": {},
   "source": [
    "Apart from the specifications, the catalogs contain two main groups:\n",
    "\n",
    "* **Group:** contains the properties of the halos.\n",
    "\n",
    "* **Subhalos:** contains the properties of the subhalos. Galaxies, are considered as subhalos with stellar mass larger than 0.\n",
    "\n",
    "In this tutorial we are going to work only with the galaxies. So, le't get some of their properties."
   ]
  },
  {
   "cell_type": "code",
   "execution_count": 9,
   "id": "a8ac1f14-e3f6-4e8c-a368-a2049a9cec42",
   "metadata": {},
   "outputs": [],
   "source": [
    "with h5py.File('../data/fof_subhalo_tab_033.hdf5', 'r') as f:\n",
    "    SM    = f['/Subhalo/SubhaloMassType'][:, 4]*1e10 #Msun/h\n",
    "    mags = f['Subhalo/SubhaloStellarPhotometrics'][:]\n",
    "    SFR = f['Subhalo/SubhaloSFR'][:]*1e10 #(Msun/year)/ (10^10 Msun/h)\n",
    "    R_g  =  f['Subhalo/SubhaloHalfmassRadType'][:, 4] #kpc/h"
   ]
  },
  {
   "cell_type": "markdown",
   "id": "9f7e5bc1-73d4-4f2b-b3ad-cfce77c9af01",
   "metadata": {},
   "source": [
    "Let's select only galaxies with a certain **stellar mass** and convert zero star forming galaxies:"
   ]
  },
  {
   "cell_type": "code",
   "execution_count": 28,
   "id": "6d9e5b1b-0502-47bd-af2a-e706e21d38ab",
   "metadata": {},
   "outputs": [],
   "source": [
    "threshold = 1.e8"
   ]
  },
  {
   "cell_type": "code",
   "execution_count": 29,
   "id": "923cf062-4eb2-445c-b221-73f512ba0f78",
   "metadata": {},
   "outputs": [
    {
     "data": {
      "text/plain": [
       "(860,)"
      ]
     },
     "execution_count": 29,
     "metadata": {},
     "output_type": "execute_result"
    }
   ],
   "source": [
    "indexes = np.where(SM > threshold)[0]\n",
    "SM      = SM[indexes]\n",
    "mags    = mags[indexes]\n",
    "SFR     = SFR[indexes]\n",
    "R_g     = R_g[indexes]\n",
    "indexes.shape"
   ]
  },
  {
   "cell_type": "code",
   "execution_count": 30,
   "id": "ba5d7e4e-9fea-4b23-91ca-1c1b1d84f19f",
   "metadata": {},
   "outputs": [],
   "source": [
    "SFR[np.where(SFR == 0)[0]] = 10**(8)"
   ]
  },
  {
   "cell_type": "markdown",
   "id": "ae950072-57be-4420-9182-5a5ed50d9d50",
   "metadata": {},
   "source": [
    "IllustrisTNG comes with 8 magnitude bands: U, B, V, K, g, r, i, z.\n",
    "Here we will work with the color g - r:"
   ]
  },
  {
   "cell_type": "code",
   "execution_count": 13,
   "id": "9ea0218b-9766-46b8-86af-69de7a089231",
   "metadata": {},
   "outputs": [],
   "source": [
    "color = mags[:, 4] - mags[:, 5]"
   ]
  },
  {
   "cell_type": "markdown",
   "id": "5c2aead2-c5d8-486f-aa95-fd800a943fea",
   "metadata": {},
   "source": [
    "According to Donnary (2018) we can split the color diagram according to a threshold of 0.6, separating blue and red galaxies:"
   ]
  },
  {
   "cell_type": "code",
   "execution_count": 27,
   "id": "5e1d4abe-6519-4f86-a03a-51d2e92090b6",
   "metadata": {},
   "outputs": [
    {
     "data": {
      "text/plain": [
       "Text(0.5, 1.0, 'Galaxy color')"
      ]
     },
     "execution_count": 27,
     "metadata": {},
     "output_type": "execute_result"
    },
    {
     "data": {
      "image/png": "[encoded data removed]",
      "text/plain": [
       "<Figure size 700x500 with 1 Axes>"
      ]
     },
     "metadata": {},
     "output_type": "display_data"
    }
   ],
   "source": [
    "plt.figure(dpi = 100, figsize = (7, 5))\n",
    "plt.hist(color[np.where(color < 0.6)[0]], bins = 23, color = 'blue', label = 'Blues')\n",
    "plt.hist(color[np.where(color > 0.6)[0]], bins = 7, color = 'red', label = 'Reds')\n",
    "plt.yscale('log')\n",
    "plt.ylabel('# gals')\n",
    "plt.xlabel('color')\n",
    "plt.legend()\n",
    "plt.title('Galaxy color')"
   ]
  },
  {
   "cell_type": "code",
   "execution_count": 10,
   "id": "b975be5a-beec-460f-807c-fdf0de2acf2e",
   "metadata": {},
   "outputs": [],
   "source": []
  },
  {
   "cell_type": "code",
   "execution_count": 11,
   "id": "c4db743d-50ac-4117-9f38-66da867b1c9c",
   "metadata": {},
   "outputs": [],
   "source": [
    "color[np.where(color < 0.6)[0]] = int(0)\n",
    "color[np.where(color > 0.6)[0]] = int(1)"
   ]
  },
  {
   "cell_type": "code",
   "execution_count": 12,
   "id": "e0472394-3e13-4c96-a67a-55758490bd57",
   "metadata": {},
   "outputs": [
    {
     "data": {
      "text/html": [
       "<div>\n",
       "<style scoped>\n",
       "    .dataframe tbody tr th:only-of-type {\n",
       "        vertical-align: middle;\n",
       "    }\n",
       "\n",
       "    .dataframe tbody tr th {\n",
       "        vertical-align: top;\n",
       "    }\n",
       "\n",
       "    .dataframe thead th {\n",
       "        text-align: right;\n",
       "    }\n",
       "</style>\n",
       "<table border=\"1\" class=\"dataframe\">\n",
       "  <thead>\n",
       "    <tr style=\"text-align: right;\">\n",
       "      <th></th>\n",
       "      <th>SM</th>\n",
       "      <th>color</th>\n",
       "      <th>SFR</th>\n",
       "      <th>R</th>\n",
       "    </tr>\n",
       "  </thead>\n",
       "  <tbody>\n",
       "    <tr>\n",
       "      <th>0</th>\n",
       "      <td>11.630214</td>\n",
       "      <td>1.0</td>\n",
       "      <td>8.000000</td>\n",
       "      <td>30.098984</td>\n",
       "    </tr>\n",
       "    <tr>\n",
       "      <th>1</th>\n",
       "      <td>10.379946</td>\n",
       "      <td>0.0</td>\n",
       "      <td>10.230370</td>\n",
       "      <td>3.347014</td>\n",
       "    </tr>\n",
       "    <tr>\n",
       "      <th>2</th>\n",
       "      <td>10.190658</td>\n",
       "      <td>0.0</td>\n",
       "      <td>9.343358</td>\n",
       "      <td>4.301775</td>\n",
       "    </tr>\n",
       "  </tbody>\n",
       "</table>\n",
       "</div>"
      ],
      "text/plain": [
       "          SM  color        SFR          R\n",
       "0  11.630214    1.0   8.000000  30.098984\n",
       "1  10.379946    0.0  10.230370   3.347014\n",
       "2  10.190658    0.0   9.343358   4.301775"
      ]
     },
     "execution_count": 12,
     "metadata": {},
     "output_type": "execute_result"
    }
   ],
   "source": [
    "#Galaxy catalog\n",
    "data = np.array( [ np.log10(SM), color, np.log10(SFR), R_g ] ).T\n",
    "columns = [ 'SM', 'color', 'SFR', 'R' ] \n",
    "gals = pd.DataFrame(data = data, columns = columns)\n",
    "gals.head(3)"
   ]
  },
  {
   "cell_type": "code",
   "execution_count": 13,
   "id": "f8b1cfb2-c679-4031-8525-95502d69fd2b",
   "metadata": {},
   "outputs": [
    {
     "data": {
      "text/html": [
       "<div>\n",
       "<style scoped>\n",
       "    .dataframe tbody tr th:only-of-type {\n",
       "        vertical-align: middle;\n",
       "    }\n",
       "\n",
       "    .dataframe tbody tr th {\n",
       "        vertical-align: top;\n",
       "    }\n",
       "\n",
       "    .dataframe thead th {\n",
       "        text-align: right;\n",
       "    }\n",
       "</style>\n",
       "<table border=\"1\" class=\"dataframe\">\n",
       "  <thead>\n",
       "    <tr style=\"text-align: right;\">\n",
       "      <th></th>\n",
       "      <th>SM</th>\n",
       "      <th>color</th>\n",
       "      <th>SFR</th>\n",
       "      <th>R</th>\n",
       "    </tr>\n",
       "  </thead>\n",
       "  <tbody>\n",
       "    <tr>\n",
       "      <th>count</th>\n",
       "      <td>860.000000</td>\n",
       "      <td>860.000000</td>\n",
       "      <td>860.000000</td>\n",
       "      <td>860.000000</td>\n",
       "    </tr>\n",
       "    <tr>\n",
       "      <th>mean</th>\n",
       "      <td>9.006678</td>\n",
       "      <td>0.313953</td>\n",
       "      <td>8.747816</td>\n",
       "      <td>4.378883</td>\n",
       "    </tr>\n",
       "    <tr>\n",
       "      <th>std</th>\n",
       "      <td>0.766523</td>\n",
       "      <td>0.464368</td>\n",
       "      <td>0.752413</td>\n",
       "      <td>2.179333</td>\n",
       "    </tr>\n",
       "    <tr>\n",
       "      <th>min</th>\n",
       "      <td>8.000628</td>\n",
       "      <td>0.000000</td>\n",
       "      <td>7.499816</td>\n",
       "      <td>0.358295</td>\n",
       "    </tr>\n",
       "    <tr>\n",
       "      <th>25%</th>\n",
       "      <td>8.341695</td>\n",
       "      <td>0.000000</td>\n",
       "      <td>8.000000</td>\n",
       "      <td>3.064089</td>\n",
       "    </tr>\n",
       "    <tr>\n",
       "      <th>50%</th>\n",
       "      <td>8.849222</td>\n",
       "      <td>0.000000</td>\n",
       "      <td>8.639319</td>\n",
       "      <td>3.973066</td>\n",
       "    </tr>\n",
       "    <tr>\n",
       "      <th>75%</th>\n",
       "      <td>9.545236</td>\n",
       "      <td>1.000000</td>\n",
       "      <td>9.395308</td>\n",
       "      <td>5.232606</td>\n",
       "    </tr>\n",
       "    <tr>\n",
       "      <th>max</th>\n",
       "      <td>11.630214</td>\n",
       "      <td>1.000000</td>\n",
       "      <td>10.878436</td>\n",
       "      <td>30.098984</td>\n",
       "    </tr>\n",
       "  </tbody>\n",
       "</table>\n",
       "</div>"
      ],
      "text/plain": [
       "               SM       color         SFR           R\n",
       "count  860.000000  860.000000  860.000000  860.000000\n",
       "mean     9.006678    0.313953    8.747816    4.378883\n",
       "std      0.766523    0.464368    0.752413    2.179333\n",
       "min      8.000628    0.000000    7.499816    0.358295\n",
       "25%      8.341695    0.000000    8.000000    3.064089\n",
       "50%      8.849222    0.000000    8.639319    3.973066\n",
       "75%      9.545236    1.000000    9.395308    5.232606\n",
       "max     11.630214    1.000000   10.878436   30.098984"
      ]
     },
     "execution_count": 13,
     "metadata": {},
     "output_type": "execute_result"
    }
   ],
   "source": [
    "gals.describe()"
   ]
  },
  {
   "cell_type": "code",
   "execution_count": 14,
   "id": "f3b3f6d2-6646-46f3-9bf9-628b9576e9ba",
   "metadata": {},
   "outputs": [
    {
     "data": {
      "image/png": "[encoded data removed]",
      "text/plain": [
       "<Figure size 640x480 with 1 Axes>"
      ]
     },
     "metadata": {},
     "output_type": "display_data"
    }
   ],
   "source": [
    "plt.figure(dpi = 100)\n",
    "plt.hist(gals['R'], bins = 30)\n",
    "plt.yscale('log')"
   ]
  },
  {
   "cell_type": "code",
   "execution_count": 15,
   "id": "a1c7f7cc-2100-48cc-88fd-3b3912b777c2",
   "metadata": {},
   "outputs": [],
   "source": [
    "gals = gals.sample(frac = 1)"
   ]
  },
  {
   "cell_type": "code",
   "execution_count": 16,
   "id": "abb23239-42a8-4f3b-b944-2703c1f012aa",
   "metadata": {},
   "outputs": [
    {
     "data": {
      "text/plain": [
       "((860, 3), (860,))"
      ]
     },
     "execution_count": 16,
     "metadata": {},
     "output_type": "execute_result"
    }
   ],
   "source": [
    "X = np.array([gals['SM'], gals['SFR'], gals['R']]).T\n",
    "y = np.array(gals['color'])\n",
    "X.shape, y.shape"
   ]
  },
  {
   "cell_type": "code",
   "execution_count": 17,
   "id": "9a9e4dd2-5537-40bd-b71f-675e12bec50b",
   "metadata": {},
   "outputs": [],
   "source": [
    "X_train, X_test, y_train, y_test = train_test_split(X, y, test_size = 0.2, random_state = 42)"
   ]
  },
  {
   "cell_type": "code",
   "execution_count": 18,
   "id": "1837f10c-358a-4f9f-a6f1-a6a7e9c55550",
   "metadata": {},
   "outputs": [],
   "source": [
    "model = RandomForestClassifier(random_state = 42, class_weight = 'balanced')"
   ]
  },
  {
   "cell_type": "code",
   "execution_count": 19,
   "id": "182e1b91-7ed4-4401-905c-dfc3b915b25e",
   "metadata": {},
   "outputs": [
    {
     "data": {
      "text/html": [
       "<style>#sk-container-id-1 {color: black;}#sk-container-id-1 pre{padding: 0;}#sk-container-id-1 div.sk-toggleable {background-color: white;}#sk-container-id-1 label.sk-toggleable__label {cursor: pointer;display: block;width: 100%;margin-bottom: 0;padding: 0.3em;box-sizing: border-box;text-align: center;}#sk-container-id-1 label.sk-toggleable__label-arrow:before {content: \"▸\";float: left;margin-right: 0.25em;color: #696969;}#sk-container-id-1 label.sk-toggleable__label-arrow:hover:before {color: black;}#sk-container-id-1 div.sk-estimator:hover label.sk-toggleable__label-arrow:before {color: black;}#sk-container-id-1 div.sk-toggleable__content {max-height: 0;max-width: 0;overflow: hidden;text-align: left;background-color: #f0f8ff;}#sk-container-id-1 div.sk-toggleable__content pre {margin: 0.2em;color: black;border-radius: 0.25em;background-color: #f0f8ff;}#sk-container-id-1 input.sk-toggleable__control:checked~div.sk-toggleable__content {max-height: 200px;max-width: 100%;overflow: auto;}#sk-container-id-1 input.sk-toggleable__control:checked~label.sk-toggleable__label-arrow:before {content: \"▾\";}#sk-container-id-1 div.sk-estimator input.sk-toggleable__control:checked~label.sk-toggleable__label {background-color: #d4ebff;}#sk-container-id-1 div.sk-label input.sk-toggleable__control:checked~label.sk-toggleable__label {background-color: #d4ebff;}#sk-container-id-1 input.sk-hidden--visually {border: 0;clip: rect(1px 1px 1px 1px);clip: rect(1px, 1px, 1px, 1px);height: 1px;margin: -1px;overflow: hidden;padding: 0;position: absolute;width: 1px;}#sk-container-id-1 div.sk-estimator {font-family: monospace;background-color: #f0f8ff;border: 1px dotted black;border-radius: 0.25em;box-sizing: border-box;margin-bottom: 0.5em;}#sk-container-id-1 div.sk-estimator:hover {background-color: #d4ebff;}#sk-container-id-1 div.sk-parallel-item::after {content: \"\";width: 100%;border-bottom: 1px solid gray;flex-grow: 1;}#sk-container-id-1 div.sk-label:hover label.sk-toggleable__label {background-color: #d4ebff;}#sk-container-id-1 div.sk-serial::before {content: \"\";position: absolute;border-left: 1px solid gray;box-sizing: border-box;top: 0;bottom: 0;left: 50%;z-index: 0;}#sk-container-id-1 div.sk-serial {display: flex;flex-direction: column;align-items: center;background-color: white;padding-right: 0.2em;padding-left: 0.2em;position: relative;}#sk-container-id-1 div.sk-item {position: relative;z-index: 1;}#sk-container-id-1 div.sk-parallel {display: flex;align-items: stretch;justify-content: center;background-color: white;position: relative;}#sk-container-id-1 div.sk-item::before, #sk-container-id-1 div.sk-parallel-item::before {content: \"\";position: absolute;border-left: 1px solid gray;box-sizing: border-box;top: 0;bottom: 0;left: 50%;z-index: -1;}#sk-container-id-1 div.sk-parallel-item {display: flex;flex-direction: column;z-index: 1;position: relative;background-color: white;}#sk-container-id-1 div.sk-parallel-item:first-child::after {align-self: flex-end;width: 50%;}#sk-container-id-1 div.sk-parallel-item:last-child::after {align-self: flex-start;width: 50%;}#sk-container-id-1 div.sk-parallel-item:only-child::after {width: 0;}#sk-container-id-1 div.sk-dashed-wrapped {border: 1px dashed gray;margin: 0 0.4em 0.5em 0.4em;box-sizing: border-box;padding-bottom: 0.4em;background-color: white;}#sk-container-id-1 div.sk-label label {font-family: monospace;font-weight: bold;display: inline-block;line-height: 1.2em;}#sk-container-id-1 div.sk-label-container {text-align: center;}#sk-container-id-1 div.sk-container {/* jupyter's `normalize.less` sets `[hidden] { display: none; }` but bootstrap.min.css set `[hidden] { display: none !important; }` so we also need the `!important` here to be able to override the default hidden behavior on the sphinx rendered scikit-learn.org. See: https://github.com/scikit-learn/scikit-learn/issues/21755 */display: inline-block !important;position: relative;}#sk-container-id-1 div.sk-text-repr-fallback {display: none;}</style><div id=\"sk-container-id-1\" class=\"sk-top-container\"><div class=\"sk-text-repr-fallback\"><pre>RandomForestClassifier(class_weight=&#x27;balanced&#x27;, random_state=42)</pre><b>In a Jupyter environment, please rerun this cell to show the HTML representation or trust the notebook. <br />On GitHub, the HTML representation is unable to render, please try loading this page with nbviewer.org.</b></div><div class=\"sk-container\" hidden><div class=\"sk-item\"><div class=\"sk-estimator sk-toggleable\"><input class=\"sk-toggleable__control sk-hidden--visually\" id=\"sk-estimator-id-1\" type=\"checkbox\" checked><label for=\"sk-estimator-id-1\" class=\"sk-toggleable__label sk-toggleable__label-arrow\">RandomForestClassifier</label><div class=\"sk-toggleable__content\"><pre>RandomForestClassifier(class_weight=&#x27;balanced&#x27;, random_state=42)</pre></div></div></div></div></div>"
      ],
      "text/plain": [
       "RandomForestClassifier(class_weight='balanced', random_state=42)"
      ]
     },
     "execution_count": 19,
     "metadata": {},
     "output_type": "execute_result"
    }
   ],
   "source": [
    "model.fit(X_train, y_train)"
   ]
  },
  {
   "cell_type": "code",
   "execution_count": 20,
   "id": "0adfbb3d-5f1d-4050-ae7c-6cc3a76b285d",
   "metadata": {},
   "outputs": [],
   "source": [
    "FI = model.feature_importances_"
   ]
  },
  {
   "cell_type": "code",
   "execution_count": 21,
   "id": "2b501f32-46e2-4a07-a2ab-dcdb43a46a1c",
   "metadata": {},
   "outputs": [
    {
     "data": {
      "text/plain": [
       "Text(0.5, 0, 'feature importance')"
      ]
     },
     "execution_count": 21,
     "metadata": {},
     "output_type": "execute_result"
    },
    {
     "data": {
      "image/png": "[encoded data removed]",
      "text/plain": [
       "<Figure size 640x480 with 1 Axes>"
      ]
     },
     "metadata": {},
     "output_type": "display_data"
    }
   ],
   "source": [
    "plt.figure(dpi = 100)\n",
    "plt.title('Feature Importance')\n",
    "plt.barh(['SM', 'SFR', 'R'], FI)\n",
    "plt.xlabel('feature importance')"
   ]
  },
  {
   "cell_type": "code",
   "execution_count": 22,
   "id": "dd943780-fadc-4505-90e8-9b673eb561ff",
   "metadata": {},
   "outputs": [],
   "source": [
    "pred = model.predict(X_test)"
   ]
  },
  {
   "cell_type": "code",
   "execution_count": 23,
   "id": "58ee3a4c-9559-4362-897d-da69da8cc731",
   "metadata": {},
   "outputs": [],
   "source": [
    "#Evaluating the model\n",
    "accuracy = accuracy_score(pred, y_test)\n",
    "precision = precision_score(pred, y_test)\n",
    "recall = recall_score(pred, y_test)\n",
    "f1 = f1_score(pred, y_test)\n",
    "roc_auc = roc_auc_score(pred, y_test)\n",
    "cm = confusion_matrix(pred, y_test)"
   ]
  },
  {
   "cell_type": "code",
   "execution_count": 24,
   "id": "f9fbdd33-8e0c-42b5-bb55-eb335c4c7e77",
   "metadata": {},
   "outputs": [
    {
     "name": "stdout",
     "output_type": "stream",
     "text": [
      "TEST Accuracy: 0.8663\n",
      "TEST Precision: 0.7222\n",
      "TEST Recall: 0.8298\n",
      "TEST F1-Score: 0.7723\n",
      "TEST ROC AUC Score: 0.8549\n"
     ]
    }
   ],
   "source": [
    "# Print results\n",
    "print(f\"TEST Accuracy: {accuracy:.4f}\")\n",
    "print(f\"TEST Precision: {precision:.4f}\")\n",
    "print(f\"TEST Recall: {recall:.4f}\")\n",
    "print(f\"TEST F1-Score: {f1:.4f}\")\n",
    "print(f\"TEST ROC AUC Score: {roc_auc:.4f}\")"
   ]
  },
  {
   "cell_type": "code",
   "execution_count": 25,
   "id": "a76ca8ab-e85b-481d-b5ed-01a0d0fb1201",
   "metadata": {},
   "outputs": [
    {
     "data": {
      "text/plain": [
       "Text(0.5, 23.52222222222222, 'Predicted')"
      ]
     },
     "execution_count": 25,
     "metadata": {},
     "output_type": "execute_result"
    },
    {
     "data": {
      "image/png": "[encoded data removed]",
      "text/plain": [
       "<Figure size 640x480 with 2 Axes>"
      ]
     },
     "metadata": {},
     "output_type": "display_data"
    }
   ],
   "source": [
    "# VTest set\n",
    "plt.figure(dpi = 100)\n",
    "plt.title('Confusion Matrix: Testing set')\n",
    "sns.heatmap(cm, annot = True, fmt = 'd', cmap = 'Blues', \n",
    "            xticklabels = ['Predicted No', 'Predicted Yes'], yticklabels = ['Actual No', 'Actual Yes'])\n",
    "plt.ylabel('Actual')\n",
    "plt.xlabel('Predicted')"
   ]
  },
  {
   "cell_type": "code",
   "execution_count": null,
   "id": "13521a6b-74a6-4ad1-8638-195a2e9b43d0",
   "metadata": {},
   "outputs": [],
   "source": []
  }
 ],
 "metadata": {
  "kernelspec": {
   "display_name": "env_pytorch",
   "language": "python",
   "name": "env_pytorch"
  },
  "language_info": {
   "codemirror_mode": {
    "name": "ipython",
    "version": 3
   },
   "file_extension": ".py",
   "mimetype": "text/x-python",
   "name": "python",
   "nbconvert_exporter": "python",
   "pygments_lexer": "ipython3",
   "version": "3.11.4"
  }
 },
 "nbformat": 4,
 "nbformat_minor": 5
}
