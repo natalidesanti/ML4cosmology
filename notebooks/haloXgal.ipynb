{
 "cells": [
  {
   "cell_type": "markdown",
   "id": "ae524edd-8218-4201-8f38-fef88c3b5e9e",
   "metadata": {},
   "source": [
    "# Using neural networks to model halo-galaxy connection\n",
    "\n",
    "### By: [Natalí S. M. de Santi](https://natalidesanti.github.io)\n",
    "\n",
    "In this notebook you will find a way to predict galaxy **stellar mass**, given some **halo properties** using a **Neural Networks** (NN)"
   ]
  },
  {
   "cell_type": "markdown",
   "id": "86f27b23-3550-4e6d-b606-3797c294e2f9",
   "metadata": {},
   "source": [
    "## Summary\n",
    "\n",
    "1) Running options\n",
    "2) Motivation\n",
    "3) Libraries required\n",
    "4) Handling data\n",
    "5) Neural Networks"
   ]
  },
  {
   "cell_type": "markdown",
   "id": "1c502bb7-2cef-4db1-bf75-f6bc9174d112",
   "metadata": {},
   "source": [
    "## 1) Running options\n",
    "\n",
    "* **On the fly:** you can easily open it in `google colab`: [![Open this notebook in Colab](https://colab.research.google.com/assets/colab-badge.svg)](https://colab.research.google.com/github.com/natalidesanti/ML4cosmology/blob/develop/notebooks/haloXgal.ipynb)\n",
    "* **On your won computer:** you can download the notebook and work on this. Just make sure you have all the libraries installed :)"
   ]
  },
  {
   "cell_type": "markdown",
   "id": "2b8b87a7-b3dd-4a13-bccd-6540a9e92c06",
   "metadata": {},
   "source": [
    "## 2) Motivation\n",
    "\n",
    "Understanding the galaxy-halo connection is incredibly important for both astrophysics and cosmology. \n",
    "Galaxies form within dark matter halos, and each influences the evolution of the other through cosmic time. \n",
    "Empirical modelling seeks to understand the connection through observational data coupled with N-body simulations. \n",
    "Physical modelling uses direct simulation to understand the physics driving the connection.\n",
    "\n",
    "[<img src=\"https://ned.ipac.caltech.edu/level5/March18/Wechsler/Figures/figure1.jpg\" alt=\"drawing\" width=\"500\"/>](https://www.annualreviews.org/doi/10.1146/annurev-astro-081817-051756)\n",
    "###### [Image source: [Wechsler & Tinker 2018](https://www.annualreviews.org/doi/10.1146/annurev-astro-081817-051756)]\n",
    "\n",
    "For example, red galaxies tend to populate the centers of halos and are generally older, while blue galaxies are more often found in the outskirts\n",
    "of halos, and are typically younger.\n",
    "\n",
    "One of the main drawbacks of physical compared to empirical modelling is the computational cost. \n",
    "However, a number of works over the past 10 years have begun to use novel machine learning methods to perform this modelling, \n",
    "reducing the computational cost, and helping us learn unique new aspects of this relation that would have been difficult with existing techniques.\n",
    "\n",
    "If you are interesting in this research field, fell free to take a look at these amazing pieces of work:\n",
    "\n",
    "- Kamdar et al. 2016, [arXiv:1510.07659](https://arxiv.org/abs/1510.07659)\n",
    "- Agarwal et al. 2018, [arXiv:1712.03255](https://arxiv.org/abs/1712.03255)\n",
    "- Calderon et al. 2019, [arXiv:1902.02680](https://arxiv.org/abs/1902.02680)\n",
    "- Zhang et al. 2019, [arXiv:1902.05965](https://arxiv.org/abs/1902.05965)\n",
    "- Man et al. 2019, [arXiv:1907.01560](https://arxiv.org/abs/1907.01560)\n",
    "- Yip et al. 2019, [arXiv:1910.07813](https://arxiv.org/abs/1910.07813)\n",
    "- Jo et al. 2019, [arXiv:1908.09844](https://arxiv.org/abs/1908.09844)\n",
    "- Kasmanoff et al. 2020, [arXiv:2012.00186](https://arxiv.org/abs/2012.00186)\n",
    "- Xu et al. 2021, [arXiv:2107.01223](https://arxiv.org/abs/2107.01223)\n",
    "- Lovell et al. 2022, [arXiv:2106.04980](https://arxiv.org/abs/2106.04980)\n",
    "- Stiskalek et al. 2022, [arXiv:2202.14006](https://arxiv.org/abs/2202.14006)\n",
    "- de Santi et al. 2022, [arXiv:2201.06054](https://arxiv.org/abs/2201.06054)\n",
    "- Jespersen et al.2022, [arXiv:2210.13473](https://arxiv.org/abs/2210.13473)\n",
    "- Rodrigues et al. 2023, [arXiv:2301.06398](https://arxiv.org/abs/2301.06398)\n",
    "- Rodrigues et al. 2024, [arXiv:2410.17844](https://arxiv.org/abs/2410.17844)\n",
    "\n",
    "and many others, that i probably do not recall by now."
   ]
  },
  {
   "cell_type": "markdown",
   "id": "749de223-8e40-46d9-ba8b-29b61644f237",
   "metadata": {},
   "source": [
    "## 3) Libraries required\n",
    "\n",
    "Many of these libraries can be installed using the following command line:\n",
    "\n",
    "`pip install name_of_the_library`\n",
    "\n",
    "Fell free to reach me out if you do not get enough resources online, regarding their installation."
   ]
  },
  {
   "cell_type": "code",
   "execution_count": 1,
   "id": "71864622-c977-487a-8ed3-c3a8c073b118",
   "metadata": {},
   "outputs": [],
   "source": [
    "import numpy as np\n",
    "import pandas as pd\n",
    "import h5py\n",
    "import matplotlib.pyplot as plt\n",
    "import seaborn as sns\n",
    "from sklearn.model_selection import train_test_split\n",
    "from keras import models\n",
    "from keras import layers\n",
    "from sklearn.metrics import mean_squared_error"
   ]
  },
  {
   "cell_type": "markdown",
   "id": "f5b2fd39-d4e4-41aa-9d0b-ca4d8e7c3298",
   "metadata": {},
   "source": [
    "## 4) Handling data\n",
    "\n",
    "First things first, what is the dataset we are going to use?\n",
    "\n",
    "It is a [IllustrisTNG](https://www.tng-project.org) box from a single snapshot (z = 0) from the [CAMELS]((https://camels.readthedocs.io/en/latest/)) simulations.\n",
    "A complete description of the simulations and data, as well how to download more data, is given in the CAMELS [webpage](https://camels.readthedocs.io/en/latest/subfind.html) documentation page."
   ]
  },
  {
   "cell_type": "markdown",
   "id": "6b0cf89c-34d9-4053-9281-ccc11cb55b28",
   "metadata": {},
   "source": [
    "### 4.1) Getting and analysing the data\n",
    "\n",
    "We can download the data using:"
   ]
  },
  {
   "cell_type": "code",
   "execution_count": 2,
   "id": "5140bb93-068c-4444-a2a4-8dbd3eee2dbe",
   "metadata": {},
   "outputs": [
    {
     "name": "stdout",
     "output_type": "stream",
     "text": [
      "zsh:1: parse error near `&'\n"
     ]
    }
   ],
   "source": [
    "!wget -q -nc -O ../data/fof_subhalo_tab_033.hdf5 https://www.dropbox.com/scl/fi/nkbxz27del5iias8fgatl/fof_subhalo_tab_033.hdf5?rlkey=sigrg4t7tpjmq86x8ub8lsjls&st=z5x76tlk&dl=0"
   ]
  },
  {
   "cell_type": "markdown",
   "id": "10970f48-f6a4-475f-8448-f1bf262cc69a",
   "metadata": {},
   "source": [
    "**IllustrisTNG** data is a `.hdf5` file. \n",
    "We can read the content using the library `h5py`. \n",
    "We use the `with` method to ensure that the file is properly opened and closed each time we access it, and specify the `r` to make it clear we are *reading* from the file, not writing. \n",
    "We can see what the top level groups and datasets are using the `keys` method:"
   ]
  },
  {
   "cell_type": "code",
   "execution_count": 3,
   "id": "dc8397fb-6594-4f4c-a872-6f5de6e381fb",
   "metadata": {},
   "outputs": [
    {
     "name": "stdout",
     "output_type": "stream",
     "text": [
      "<KeysViewHDF5 ['Config', 'Group', 'Header', 'IDs', 'Parameters', 'Subhalo']>\n"
     ]
    }
   ],
   "source": [
    "with h5py.File('../data/fof_subhalo_tab_033.hdf5', 'r') as f:\n",
    "    print(f.keys())"
   ]
  },
  {
   "cell_type": "markdown",
   "id": "d3d0365e-c518-4ac3-8837-37b7233907dd",
   "metadata": {},
   "source": [
    "The cosmological information used to run this simulation can be obtained using:"
   ]
  },
  {
   "cell_type": "code",
   "execution_count": 4,
   "id": "a8990b7a-9cc4-4ca9-b311-273a002a6a61",
   "metadata": {},
   "outputs": [],
   "source": [
    "with h5py.File('../data/fof_subhalo_tab_033.hdf5', 'r') as f:\n",
    "    BoxSize      = f['Header'].attrs[u'BoxSize']/1e3    #size of the snapshot in comoving Mpc/h\n",
    "    redshift     = f['Header'].attrs[u'Redshift']       #reshift of the snapshot\n",
    "    scale_factor = f['Header'].attrs[u'Time']           #scale factor\n",
    "    h            = f['Header'].attrs[u'HubbleParam']    #value of the hubble parameter in 100 km/s/(Mpc/h)\n",
    "    Omega_m      = f['Header'].attrs[u'Omega0']         #Omega_matter\n",
    "    Omega_L      = f['Header'].attrs[u'OmegaLambda']    #Omega_baryon"
   ]
  },
  {
   "cell_type": "code",
   "execution_count": 5,
   "id": "7fbe52f0-18c8-4ef0-8f1a-d8e469508b0c",
   "metadata": {},
   "outputs": [
    {
     "name": "stdout",
     "output_type": "stream",
     "text": [
      "Box size:                 25.00 Mpc/h\n",
      "snapshot redshift:        0.00\n",
      "Omega_m:                  0.300\n",
      "Omega_L:                  0.700\n"
     ]
    }
   ],
   "source": [
    "print('Box size:                 %.2f Mpc/h'%BoxSize)\n",
    "print('snapshot redshift:        %.2f'%redshift)\n",
    "print('Omega_m:                  %.3f'%Omega_m)\n",
    "print('Omega_L:                  %.3f'%Omega_L)"
   ]
  },
  {
   "cell_type": "markdown",
   "id": "8310f62c-b640-4b01-bd7f-ba3b4c46cc24",
   "metadata": {},
   "source": [
    "Apart from the specifications, the catalogs contain two main groups:\n",
    "\n",
    "* **Group:** contains the properties of the halos.\n",
    "\n",
    "* **Subhalos:** contains the properties of the subhalos. Galaxies, are considered as subhalos with stellar mass larger than 0.\n",
    "\n",
    "In this tutorial we are going to work with both (halos and galaxies). So, le't get some of their properties."
   ]
  },
  {
   "cell_type": "code",
   "execution_count": 6,
   "id": "60c978e9-3336-4e16-9e5c-da893e8adaf0",
   "metadata": {},
   "outputs": [],
   "source": [
    "c = 3.*10**8\n",
    "\n",
    "with h5py.File('../data/fof_subhalo_tab_033.hdf5', 'r') as f:\n",
    "    # Positions, velocities and masses of the halos\n",
    "    M_h =   f['Group/Group_M_Crit200'][:]*1e10      #Msun/h\n",
    "    R_h =   f['Group/Group_R_Crit200'][:]/c         #kpc/h\n",
    "    V_h  =  f['Group/GroupVel'][:]                  #km/s\n",
    "    V_h =   np.linalg.norm(V_h, axis = 1)\n",
    "    ID_r =  f['Group/GroupFirstSub'][:] #Contains halos without gals as this number = -1\n",
    "    ID_h =  np.arange(0, M_h.shape[0], 1, dtype = float) #It is the ID of the halos, to match the gal cat\n",
    "\n",
    "    # Positions, stellar masses,  of the galaxies\n",
    "    SM    = f['Subhalo/SubhaloMassType'][:,4]*1e10 #Msun/h\n",
    "    ID_g = np.array(f['Subhalo/SubhaloGrNr']) #Gals IDs"
   ]
  },
  {
   "cell_type": "markdown",
   "id": "7702620c-9cc7-48cc-9c2c-c6e3811063d9",
   "metadata": {},
   "source": [
    "You can see that the number of halos is not the same as the number of galaxies, because we have halos without and with more than one galaxy (central and satellites):"
   ]
  },
  {
   "cell_type": "code",
   "execution_count": 7,
   "id": "362c8d11-3b07-4d95-acc4-bd3131c15c0e",
   "metadata": {},
   "outputs": [
    {
     "data": {
      "text/plain": [
       "((20131,), (17176,))"
      ]
     },
     "execution_count": 7,
     "metadata": {},
     "output_type": "execute_result"
    }
   ],
   "source": [
    "M_h.shape, SM.shape"
   ]
  },
  {
   "cell_type": "markdown",
   "id": "88c29149-3eab-43f1-808c-2a638ad3acc9",
   "metadata": {},
   "source": [
    "Let us take only the halos which have galaxies:"
   ]
  },
  {
   "cell_type": "code",
   "execution_count": 8,
   "id": "1802ce7a-4701-4ee3-b01c-109925f9cc9a",
   "metadata": {},
   "outputs": [
    {
     "data": {
      "text/plain": [
       "(13837,)"
      ]
     },
     "execution_count": 8,
     "metadata": {},
     "output_type": "execute_result"
    }
   ],
   "source": [
    "indexes = np.where( ID_r != -1)[0]\n",
    "M_h = M_h[indexes]\n",
    "R_h = R_h[indexes]\n",
    "V_h = V_h[indexes]\n",
    "ID_h = ID_h[indexes]\n",
    "\n",
    "ID_h.shape"
   ]
  },
  {
   "cell_type": "markdown",
   "id": "6a45951c-7396-48c7-a157-f317e6b98cf3",
   "metadata": {},
   "source": [
    "Then, we have the halo (with galaxies) catalog:"
   ]
  },
  {
   "cell_type": "code",
   "execution_count": 9,
   "id": "c08edd76-6af2-474a-abd9-69b941fb83ee",
   "metadata": {},
   "outputs": [
    {
     "data": {
      "text/html": [
       "<div>\n",
       "<style scoped>\n",
       "    .dataframe tbody tr th:only-of-type {\n",
       "        vertical-align: middle;\n",
       "    }\n",
       "\n",
       "    .dataframe tbody tr th {\n",
       "        vertical-align: top;\n",
       "    }\n",
       "\n",
       "    .dataframe thead th {\n",
       "        text-align: right;\n",
       "    }\n",
       "</style>\n",
       "<table border=\"1\" class=\"dataframe\">\n",
       "  <thead>\n",
       "    <tr style=\"text-align: right;\">\n",
       "      <th></th>\n",
       "      <th>M_h</th>\n",
       "      <th>R_h</th>\n",
       "      <th>V_h</th>\n",
       "      <th>ID</th>\n",
       "    </tr>\n",
       "  </thead>\n",
       "  <tbody>\n",
       "    <tr>\n",
       "      <th>0</th>\n",
       "      <td>4.500575e+13</td>\n",
       "      <td>0.000002</td>\n",
       "      <td>27.004244</td>\n",
       "      <td>0.0</td>\n",
       "    </tr>\n",
       "    <tr>\n",
       "      <th>1</th>\n",
       "      <td>1.912689e+13</td>\n",
       "      <td>0.000001</td>\n",
       "      <td>56.368275</td>\n",
       "      <td>1.0</td>\n",
       "    </tr>\n",
       "    <tr>\n",
       "      <th>2</th>\n",
       "      <td>2.011009e+13</td>\n",
       "      <td>0.000001</td>\n",
       "      <td>188.867279</td>\n",
       "      <td>2.0</td>\n",
       "    </tr>\n",
       "  </tbody>\n",
       "</table>\n",
       "</div>"
      ],
      "text/plain": [
       "            M_h       R_h         V_h   ID\n",
       "0  4.500575e+13  0.000002   27.004244  0.0\n",
       "1  1.912689e+13  0.000001   56.368275  1.0\n",
       "2  2.011009e+13  0.000001  188.867279  2.0"
      ]
     },
     "execution_count": 9,
     "metadata": {},
     "output_type": "execute_result"
    }
   ],
   "source": [
    "# Halo catalog\n",
    "data = np.array( [ M_h, R_h, V_h, ID_h ] ).T\n",
    "columns = [ 'M_h', 'R_h', 'V_h', 'ID' ] \n",
    "halos = pd.DataFrame(data = data, columns = columns)\n",
    "halos.head(3)"
   ]
  },
  {
   "cell_type": "markdown",
   "id": "80e03d22-12f2-4145-844d-f5349c380225",
   "metadata": {},
   "source": [
    "Let's now create the galaxy catalog:"
   ]
  },
  {
   "cell_type": "code",
   "execution_count": 10,
   "id": "5b3b6b74-17b5-48ab-b70c-1ad071e520ad",
   "metadata": {},
   "outputs": [
    {
     "data": {
      "text/html": [
       "<div>\n",
       "<style scoped>\n",
       "    .dataframe tbody tr th:only-of-type {\n",
       "        vertical-align: middle;\n",
       "    }\n",
       "\n",
       "    .dataframe tbody tr th {\n",
       "        vertical-align: top;\n",
       "    }\n",
       "\n",
       "    .dataframe thead th {\n",
       "        text-align: right;\n",
       "    }\n",
       "</style>\n",
       "<table border=\"1\" class=\"dataframe\">\n",
       "  <thead>\n",
       "    <tr style=\"text-align: right;\">\n",
       "      <th></th>\n",
       "      <th>SM</th>\n",
       "      <th>ID</th>\n",
       "    </tr>\n",
       "  </thead>\n",
       "  <tbody>\n",
       "    <tr>\n",
       "      <th>0</th>\n",
       "      <td>4.267894e+11</td>\n",
       "      <td>0.0</td>\n",
       "    </tr>\n",
       "    <tr>\n",
       "      <th>1</th>\n",
       "      <td>2.398532e+10</td>\n",
       "      <td>0.0</td>\n",
       "    </tr>\n",
       "    <tr>\n",
       "      <th>2</th>\n",
       "      <td>1.551164e+10</td>\n",
       "      <td>0.0</td>\n",
       "    </tr>\n",
       "  </tbody>\n",
       "</table>\n",
       "</div>"
      ],
      "text/plain": [
       "             SM   ID\n",
       "0  4.267894e+11  0.0\n",
       "1  2.398532e+10  0.0\n",
       "2  1.551164e+10  0.0"
      ]
     },
     "execution_count": 10,
     "metadata": {},
     "output_type": "execute_result"
    }
   ],
   "source": [
    "#Galaxy catalog\n",
    "data = np.array( [ SM, ID_g ] ).T\n",
    "columns = [ 'SM', 'ID' ] \n",
    "gals = pd.DataFrame(data = data, columns = columns)\n",
    "gals.head(3)"
   ]
  },
  {
   "cell_type": "markdown",
   "id": "54c06fcd-6b32-4c99-b4f2-fdd132c9d578",
   "metadata": {},
   "source": [
    "In this tutorial we will deal only with central galaxies. Let's select them:"
   ]
  },
  {
   "cell_type": "code",
   "execution_count": 11,
   "id": "cb0cc89c-8dad-417d-a619-3e137393c770",
   "metadata": {},
   "outputs": [],
   "source": [
    "gals = gals.drop_duplicates(subset = ['ID'], keep = 'first')"
   ]
  },
  {
   "cell_type": "markdown",
   "id": "2bf00e3a-6e25-4ae7-8f43-e0aa7f18a075",
   "metadata": {},
   "source": [
    "We can now merge the halo and galaxy catalogs:"
   ]
  },
  {
   "cell_type": "code",
   "execution_count": 12,
   "id": "855bcffd-6a41-44e6-aa6a-ac4fa0be3a71",
   "metadata": {},
   "outputs": [
    {
     "data": {
      "text/plain": [
       "(13837, 5)"
      ]
     },
     "execution_count": 12,
     "metadata": {},
     "output_type": "execute_result"
    }
   ],
   "source": [
    "df = pd.merge(left = halos, right = gals, left_on = 'ID', right_on = 'ID')\n",
    "df.shape"
   ]
  },
  {
   "cell_type": "markdown",
   "id": "c3bfcf6a-49c8-432b-850a-e5e8acfb0db3",
   "metadata": {},
   "source": [
    "Cleaning the data:"
   ]
  },
  {
   "cell_type": "code",
   "execution_count": 13,
   "id": "ba844944-5183-42d6-bb4c-440d4f5e850d",
   "metadata": {},
   "outputs": [
    {
     "data": {
      "text/plain": [
       "(13837, 4)"
      ]
     },
     "execution_count": 13,
     "metadata": {},
     "output_type": "execute_result"
    }
   ],
   "source": [
    "#Just dropping the ID column because we don't need it anymore\n",
    "df = df.drop(['ID'], axis = 1)\n",
    "df.shape"
   ]
  },
  {
   "cell_type": "code",
   "execution_count": 14,
   "id": "5bbdf3e9-29e3-4c43-b189-521c8c7a90ca",
   "metadata": {},
   "outputs": [],
   "source": [
    "#Considering only galaxies with SM > 1.8\n",
    "df = df[ df['SM'] > 1.e8 ]"
   ]
  },
  {
   "cell_type": "code",
   "execution_count": 15,
   "id": "d9d7ce98-c369-475a-8a03-627185e243f4",
   "metadata": {},
   "outputs": [
    {
     "data": {
      "text/plain": [
       "(493, 4)"
      ]
     },
     "execution_count": 15,
     "metadata": {},
     "output_type": "execute_result"
    }
   ],
   "source": [
    "df.shape"
   ]
  },
  {
   "cell_type": "markdown",
   "id": "7acb9f8c-3801-4500-b438-f1843814545d",
   "metadata": {},
   "source": [
    "Now, let's see some statistics from these halos and galaxies:"
   ]
  },
  {
   "cell_type": "code",
   "execution_count": 16,
   "id": "bf12b321-5036-49c9-88d3-f6fab07fb895",
   "metadata": {},
   "outputs": [
    {
     "data": {
      "text/html": [
       "<div>\n",
       "<style scoped>\n",
       "    .dataframe tbody tr th:only-of-type {\n",
       "        vertical-align: middle;\n",
       "    }\n",
       "\n",
       "    .dataframe tbody tr th {\n",
       "        vertical-align: top;\n",
       "    }\n",
       "\n",
       "    .dataframe thead th {\n",
       "        text-align: right;\n",
       "    }\n",
       "</style>\n",
       "<table border=\"1\" class=\"dataframe\">\n",
       "  <thead>\n",
       "    <tr style=\"text-align: right;\">\n",
       "      <th></th>\n",
       "      <th>M_h</th>\n",
       "      <th>R_h</th>\n",
       "      <th>V_h</th>\n",
       "      <th>SM</th>\n",
       "    </tr>\n",
       "  </thead>\n",
       "  <tbody>\n",
       "    <tr>\n",
       "      <th>count</th>\n",
       "      <td>4.930000e+02</td>\n",
       "      <td>4.930000e+02</td>\n",
       "      <td>493.000000</td>\n",
       "      <td>4.930000e+02</td>\n",
       "    </tr>\n",
       "    <tr>\n",
       "      <th>mean</th>\n",
       "      <td>7.296383e+11</td>\n",
       "      <td>3.565443e-07</td>\n",
       "      <td>152.844886</td>\n",
       "      <td>9.216308e+09</td>\n",
       "    </tr>\n",
       "    <tr>\n",
       "      <th>std</th>\n",
       "      <td>2.846740e+12</td>\n",
       "      <td>2.018132e-07</td>\n",
       "      <td>85.401777</td>\n",
       "      <td>3.325574e+10</td>\n",
       "    </tr>\n",
       "    <tr>\n",
       "      <th>min</th>\n",
       "      <td>1.771373e+10</td>\n",
       "      <td>1.413212e-07</td>\n",
       "      <td>7.104222</td>\n",
       "      <td>1.001448e+08</td>\n",
       "    </tr>\n",
       "    <tr>\n",
       "      <th>25%</th>\n",
       "      <td>9.636051e+10</td>\n",
       "      <td>2.485356e-07</td>\n",
       "      <td>96.220879</td>\n",
       "      <td>2.149921e+08</td>\n",
       "    </tr>\n",
       "    <tr>\n",
       "      <th>50%</th>\n",
       "      <td>1.566247e+11</td>\n",
       "      <td>2.922326e-07</td>\n",
       "      <td>134.216339</td>\n",
       "      <td>8.422070e+08</td>\n",
       "    </tr>\n",
       "    <tr>\n",
       "      <th>75%</th>\n",
       "      <td>3.943152e+11</td>\n",
       "      <td>3.975284e-07</td>\n",
       "      <td>187.495285</td>\n",
       "      <td>4.968467e+09</td>\n",
       "    </tr>\n",
       "    <tr>\n",
       "      <th>max</th>\n",
       "      <td>4.500575e+13</td>\n",
       "      <td>1.928402e-06</td>\n",
       "      <td>563.310913</td>\n",
       "      <td>4.267894e+11</td>\n",
       "    </tr>\n",
       "  </tbody>\n",
       "</table>\n",
       "</div>"
      ],
      "text/plain": [
       "                M_h           R_h         V_h            SM\n",
       "count  4.930000e+02  4.930000e+02  493.000000  4.930000e+02\n",
       "mean   7.296383e+11  3.565443e-07  152.844886  9.216308e+09\n",
       "std    2.846740e+12  2.018132e-07   85.401777  3.325574e+10\n",
       "min    1.771373e+10  1.413212e-07    7.104222  1.001448e+08\n",
       "25%    9.636051e+10  2.485356e-07   96.220879  2.149921e+08\n",
       "50%    1.566247e+11  2.922326e-07  134.216339  8.422070e+08\n",
       "75%    3.943152e+11  3.975284e-07  187.495285  4.968467e+09\n",
       "max    4.500575e+13  1.928402e-06  563.310913  4.267894e+11"
      ]
     },
     "execution_count": 16,
     "metadata": {},
     "output_type": "execute_result"
    }
   ],
   "source": [
    "df.describe()"
   ]
  },
  {
   "cell_type": "markdown",
   "id": "73ee215b-cb04-4fe1-83fa-9b44660324f6",
   "metadata": {},
   "source": [
    "### 4.2) Data pre-processing\n",
    "\n",
    "Many machine learning methods struggle with a large and different ranges of features. \n",
    "So, let's take the $log_{10}$ of the properties:"
   ]
  },
  {
   "cell_type": "code",
   "execution_count": 17,
   "id": "dc37a893-286c-4ef5-8f7b-5186582dfcff",
   "metadata": {},
   "outputs": [],
   "source": [
    "df['M_h'] = np.log10(df['M_h'])\n",
    "df['R_h'] = np.log10(df['R_h'])\n",
    "df['V_h'] = np.log10(df['V_h'])\n",
    "df['SM']  = np.log10(df['SM'])"
   ]
  },
  {
   "cell_type": "markdown",
   "id": "8e73c1da-8987-4d26-8e59-05ae5528d607",
   "metadata": {},
   "source": [
    "Now, the statistic has changed:"
   ]
  },
  {
   "cell_type": "code",
   "execution_count": 18,
   "id": "5900ffcc-77dd-4e65-bc86-7c354361cd2d",
   "metadata": {},
   "outputs": [
    {
     "data": {
      "text/html": [
       "<div>\n",
       "<style scoped>\n",
       "    .dataframe tbody tr th:only-of-type {\n",
       "        vertical-align: middle;\n",
       "    }\n",
       "\n",
       "    .dataframe tbody tr th {\n",
       "        vertical-align: top;\n",
       "    }\n",
       "\n",
       "    .dataframe thead th {\n",
       "        text-align: right;\n",
       "    }\n",
       "</style>\n",
       "<table border=\"1\" class=\"dataframe\">\n",
       "  <thead>\n",
       "    <tr style=\"text-align: right;\">\n",
       "      <th></th>\n",
       "      <th>M_h</th>\n",
       "      <th>R_h</th>\n",
       "      <th>V_h</th>\n",
       "      <th>SM</th>\n",
       "    </tr>\n",
       "  </thead>\n",
       "  <tbody>\n",
       "    <tr>\n",
       "      <th>count</th>\n",
       "      <td>493.000000</td>\n",
       "      <td>493.000000</td>\n",
       "      <td>493.000000</td>\n",
       "      <td>493.000000</td>\n",
       "    </tr>\n",
       "    <tr>\n",
       "      <th>mean</th>\n",
       "      <td>11.327055</td>\n",
       "      <td>-6.490218</td>\n",
       "      <td>2.118895</td>\n",
       "      <td>9.062466</td>\n",
       "    </tr>\n",
       "    <tr>\n",
       "      <th>std</th>\n",
       "      <td>0.524554</td>\n",
       "      <td>0.174852</td>\n",
       "      <td>0.250793</td>\n",
       "      <td>0.825675</td>\n",
       "    </tr>\n",
       "    <tr>\n",
       "      <th>min</th>\n",
       "      <td>10.248310</td>\n",
       "      <td>-6.849793</td>\n",
       "      <td>0.851517</td>\n",
       "      <td>8.000629</td>\n",
       "    </tr>\n",
       "    <tr>\n",
       "      <th>25%</th>\n",
       "      <td>10.983899</td>\n",
       "      <td>-6.604611</td>\n",
       "      <td>1.983269</td>\n",
       "      <td>8.332423</td>\n",
       "    </tr>\n",
       "    <tr>\n",
       "      <th>50%</th>\n",
       "      <td>11.194860</td>\n",
       "      <td>-6.534271</td>\n",
       "      <td>2.127805</td>\n",
       "      <td>8.925419</td>\n",
       "    </tr>\n",
       "    <tr>\n",
       "      <th>75%</th>\n",
       "      <td>11.595843</td>\n",
       "      <td>-6.400632</td>\n",
       "      <td>2.272990</td>\n",
       "      <td>9.696222</td>\n",
       "    </tr>\n",
       "    <tr>\n",
       "      <th>max</th>\n",
       "      <td>13.653268</td>\n",
       "      <td>-5.714802</td>\n",
       "      <td>2.750748</td>\n",
       "      <td>11.630214</td>\n",
       "    </tr>\n",
       "  </tbody>\n",
       "</table>\n",
       "</div>"
      ],
      "text/plain": [
       "              M_h         R_h         V_h          SM\n",
       "count  493.000000  493.000000  493.000000  493.000000\n",
       "mean    11.327055   -6.490218    2.118895    9.062466\n",
       "std      0.524554    0.174852    0.250793    0.825675\n",
       "min     10.248310   -6.849793    0.851517    8.000629\n",
       "25%     10.983899   -6.604611    1.983269    8.332423\n",
       "50%     11.194860   -6.534271    2.127805    8.925419\n",
       "75%     11.595843   -6.400632    2.272990    9.696222\n",
       "max     13.653268   -5.714802    2.750748   11.630214"
      ]
     },
     "execution_count": 18,
     "metadata": {},
     "output_type": "execute_result"
    }
   ],
   "source": [
    "df.describe()"
   ]
  },
  {
   "cell_type": "markdown",
   "id": "cd34859d-17c6-45e8-b8c2-04e65228ea5e",
   "metadata": {},
   "source": [
    "Halo properties look like:"
   ]
  },
  {
   "cell_type": "code",
   "execution_count": 19,
   "id": "897a5ba6-74bf-4dd5-a6f9-f504618f9aba",
   "metadata": {},
   "outputs": [
    {
     "data": {
      "text/plain": [
       "Text(0.5, 0, 'V_h')"
      ]
     },
     "execution_count": 19,
     "metadata": {},
     "output_type": "execute_result"
    },
    {
     "data": {
      "image/png": "[encoded data removed]",
      "text/plain": [
       "<Figure size 1500x500 with 3 Axes>"
      ]
     },
     "metadata": {},
     "output_type": "display_data"
    }
   ],
   "source": [
    "fig, axs = plt.subplots(1, 3, figsize = (15, 5), sharey = True, dpi = 100)\n",
    "\n",
    "fig.suptitle('Halo properties')\n",
    "\n",
    "axs[0].hist(df['M_h'])\n",
    "axs[0].set_yscale('log')\n",
    "axs[0].set_xlabel('M_h')\n",
    "axs[0].set_ylabel('# halos')\n",
    "\n",
    "axs[1].hist(df['R_h'])\n",
    "axs[1].set_yscale('log')\n",
    "axs[1].set_xlabel('R_h')\n",
    "\n",
    "axs[2].hist(df['V_h'])\n",
    "axs[2].set_yscale('log')\n",
    "axs[2].set_xlabel('V_h')"
   ]
  },
  {
   "cell_type": "markdown",
   "id": "8c3184d6-495a-47a1-8074-e11d61938969",
   "metadata": {},
   "source": [
    "And stellar mass as:"
   ]
  },
  {
   "cell_type": "code",
   "execution_count": 20,
   "id": "00c164cd-79e4-49d2-ae83-304a9193c450",
   "metadata": {},
   "outputs": [
    {
     "data": {
      "text/plain": [
       "Text(0.5, 1.0, 'Galaxy properties')"
      ]
     },
     "execution_count": 20,
     "metadata": {},
     "output_type": "execute_result"
    },
    {
     "data": {
      "image/png": "[encoded data removed]",
      "text/plain": [
       "<Figure size 500x500 with 1 Axes>"
      ]
     },
     "metadata": {},
     "output_type": "display_data"
    }
   ],
   "source": [
    "plt.figure(dpi = 100, figsize = (5, 5))\n",
    "plt.hist(df['SM'])\n",
    "plt.yscale('log')\n",
    "plt.ylabel('# gals')\n",
    "plt.xlabel('SM')\n",
    "plt.title('Galaxy properties')"
   ]
  },
  {
   "cell_type": "markdown",
   "id": "fe7e8da9-51bd-4b62-b4da-13d1d4f4d9c4",
   "metadata": {},
   "source": [
    "### 4.3) Measuring the correlation among halo/galaxy properties\n",
    "\n",
    "Here we are going to measure the [Pearson Correlation Coefficient](https://en.wikipedia.org/wiki/Pearson_correlation_coefficient)\n",
    "\\begin{equation}\n",
    " PCC = \\frac{ \\mathrm{cov} (X, Y) }{ \\sigma_X \\sigma_Y }\n",
    "\\end{equation}\n",
    "\n",
    "and plot it as a heatmap of the values."
   ]
  },
  {
   "cell_type": "code",
   "execution_count": 21,
   "id": "a87d096c-23ce-41bf-b51a-b0bcd0a23610",
   "metadata": {},
   "outputs": [],
   "source": [
    "def correlation_heatmap(df):\n",
    "    correlations = df.corr(method = 'pearson')\n",
    "\n",
    "    fig, ax = plt.subplots(figsize = (10,10))\n",
    "    sns.heatmap(correlations, vmax = 1.0, center = 0, fmt = '.6f',\n",
    "                square = True, linewidths = .5, annot = True, \n",
    "                cbar_kws = {\"shrink\": .82})\n",
    "    plt.title('Pearson correlation Heatmap')\n",
    "    plt.show()\n",
    "    \n",
    "    return correlations"
   ]
  },
  {
   "cell_type": "code",
   "execution_count": 22,
   "id": "625364c3-cc62-46de-be9b-67ea843d4439",
   "metadata": {},
   "outputs": [
    {
     "data": {
      "image/png": "[encoded data removed]",
      "text/plain": [
       "<Figure size 1000x1000 with 2 Axes>"
      ]
     },
     "metadata": {},
     "output_type": "display_data"
    },
    {
     "data": {
      "text/html": [
       "<div>\n",
       "<style scoped>\n",
       "    .dataframe tbody tr th:only-of-type {\n",
       "        vertical-align: middle;\n",
       "    }\n",
       "\n",
       "    .dataframe tbody tr th {\n",
       "        vertical-align: top;\n",
       "    }\n",
       "\n",
       "    .dataframe thead th {\n",
       "        text-align: right;\n",
       "    }\n",
       "</style>\n",
       "<table border=\"1\" class=\"dataframe\">\n",
       "  <thead>\n",
       "    <tr style=\"text-align: right;\">\n",
       "      <th></th>\n",
       "      <th>M_h</th>\n",
       "      <th>R_h</th>\n",
       "      <th>V_h</th>\n",
       "      <th>SM</th>\n",
       "    </tr>\n",
       "  </thead>\n",
       "  <tbody>\n",
       "    <tr>\n",
       "      <th>M_h</th>\n",
       "      <td>1.000000</td>\n",
       "      <td>1.000000</td>\n",
       "      <td>-0.131829</td>\n",
       "      <td>0.943706</td>\n",
       "    </tr>\n",
       "    <tr>\n",
       "      <th>R_h</th>\n",
       "      <td>1.000000</td>\n",
       "      <td>1.000000</td>\n",
       "      <td>-0.131831</td>\n",
       "      <td>0.943704</td>\n",
       "    </tr>\n",
       "    <tr>\n",
       "      <th>V_h</th>\n",
       "      <td>-0.131829</td>\n",
       "      <td>-0.131831</td>\n",
       "      <td>1.000000</td>\n",
       "      <td>-0.074909</td>\n",
       "    </tr>\n",
       "    <tr>\n",
       "      <th>SM</th>\n",
       "      <td>0.943706</td>\n",
       "      <td>0.943704</td>\n",
       "      <td>-0.074909</td>\n",
       "      <td>1.000000</td>\n",
       "    </tr>\n",
       "  </tbody>\n",
       "</table>\n",
       "</div>"
      ],
      "text/plain": [
       "          M_h       R_h       V_h        SM\n",
       "M_h  1.000000  1.000000 -0.131829  0.943706\n",
       "R_h  1.000000  1.000000 -0.131831  0.943704\n",
       "V_h -0.131829 -0.131831  1.000000 -0.074909\n",
       "SM   0.943706  0.943704 -0.074909  1.000000"
      ]
     },
     "execution_count": 22,
     "metadata": {},
     "output_type": "execute_result"
    }
   ],
   "source": [
    "correlation_heatmap(df)"
   ]
  },
  {
   "cell_type": "markdown",
   "id": "69c13031-9e5e-442c-8ee4-20304d7760a4",
   "metadata": {},
   "source": [
    "In the above plot we can see:\n",
    "* 1) The diagonal values are always $1$ (because they represent the correlation of each property with itself)\n",
    "* 2) Halo masses and radius have a huge correlation to each other\n",
    "* 3) Otherwise, halo velocities are not huge correlated with the other halo properties\n",
    "* 4) Because we are interested to get galaxy properties, more specifically stellar mass from halo ones, we are interested in the correlation of them\n",
    "* 5) Stellar Mass have the higher correlation with halo properties"
   ]
  },
  {
   "cell_type": "markdown",
   "id": "274f8949-bf8f-4dc1-a734-2c0892ed8460",
   "metadata": {},
   "source": [
    "### 4.4) Machine learning data-pre process:"
   ]
  },
  {
   "cell_type": "markdown",
   "id": "793a68cf-02ea-464d-876e-c7e77615dfbb",
   "metadata": {},
   "source": [
    "First we need to select the input (X) and predicted features (y):"
   ]
  },
  {
   "cell_type": "code",
   "execution_count": 23,
   "id": "adfdb14a-99a7-4f64-aa40-00331becf0d4",
   "metadata": {},
   "outputs": [
    {
     "data": {
      "text/plain": [
       "((493, 2), (493,))"
      ]
     },
     "execution_count": 23,
     "metadata": {},
     "output_type": "execute_result"
    }
   ],
   "source": [
    "X = np.array([df['M_h'], df['R_h']]).T\n",
    "y = np.array(df['SM'])\n",
    "X.shape, y.shape"
   ]
  },
  {
   "cell_type": "markdown",
   "id": "c3709545-ffe0-470d-a2bc-b60c680c7ac8",
   "metadata": {},
   "source": [
    "Second, we need to split the data in **train** and **test** sets:"
   ]
  },
  {
   "cell_type": "code",
   "execution_count": 24,
   "id": "160134c6-7a67-4c6c-8652-25960392d5bb",
   "metadata": {},
   "outputs": [],
   "source": [
    "X_train, X_test, y_train, y_test = train_test_split(X, y, test_size = 0.2, random_state = 42)"
   ]
  },
  {
   "cell_type": "markdown",
   "id": "5eb2ef42-5263-421e-aa88-d028992e8ad5",
   "metadata": {},
   "source": [
    "Third, we can transform the data acconding to:\n",
    "\\begin{equation}\n",
    " data \\Rightarrow \\frac{(data - mean)}{std} .\n",
    "\\end{equation}\n",
    "This transformation is done to constrain the range of all the input variables to small and similar values."
   ]
  },
  {
   "cell_type": "code",
   "execution_count": 25,
   "id": "e1d405db-f455-4fc9-aa78-7e72948f6406",
   "metadata": {},
   "outputs": [
    {
     "data": {
      "text/plain": [
       "(array([11.31837815, -6.49310958]), array([0.50427504, 0.16809226]))"
      ]
     },
     "execution_count": 25,
     "metadata": {},
     "output_type": "execute_result"
    }
   ],
   "source": [
    "#Preparing data\n",
    "mean_data = np.mean(X_train, axis = 0)\n",
    "std_data = np.std(X_train, axis = 0)\n",
    "mean_data, std_data"
   ]
  },
  {
   "cell_type": "code",
   "execution_count": 26,
   "id": "3db63cbc-0de9-4679-aafc-4c34853c11d7",
   "metadata": {},
   "outputs": [],
   "source": [
    "X_train -= mean_data\n",
    "X_train /= std_data\n",
    "X_test -= mean_data\n",
    "X_test /= std_data"
   ]
  },
  {
   "cell_type": "markdown",
   "id": "36497ba7-4986-462a-9cdc-87ec66cec4f4",
   "metadata": {},
   "source": [
    "## 5) Neural Networks"
   ]
  },
  {
   "cell_type": "markdown",
   "id": "d6f05534-94a6-4a69-b3af-b337fa6640ea",
   "metadata": {},
   "source": [
    "A **neural network** is a collection of _nodes_ (neurons) that are arranged in a series of **layers**:\n",
    "\n",
    "![](https://eu-images.contentstack.com/v3/assets/blt6b0f74e5591baa03/blt790f1b7ac4e04301/6543ff50fcf447040a6b8dc7/News_Image_(47).png?width=1280&auto=webp&quality=95&format=jpg&disable=upscale)\n",
    "##### [Image source: [link](https://www.google.com/url?sa=i&url=https%3A%2F%2Faibusiness.com%2Fml%2Fhow-neural-networks-can-think-like-humans-and-why-it-matters&psig=AOvVaw0CldrZipLBRNpJUa3_epgA&ust=1731103284125000&source=images&cd=vfe&opi=89978449&ved=0CBQQjRxqFwoTCMjZ4rmcy4kDFQAAAAAdAAAAABAE)]"
   ]
  },
  {
   "cell_type": "markdown",
   "id": "66abb5be-6851-48a9-9001-afd6ed4c7cea",
   "metadata": {},
   "source": [
    "Each connection has a weight, $\\omega_i a_i$, and each layer is a summarization of them, plus a bias $b$, according to:\n",
    "\\begin{equation}\n",
    " b_{\\mu} + \\sum_{\\nu} W_{\\mu \\nu} a_{\\nu} .\n",
    "\\end{equation}"
   ]
  },
  {
   "cell_type": "markdown",
   "id": "0797df2d-6ed3-49f4-99de-ddcac247fec9",
   "metadata": {},
   "source": [
    "Another numeric transformation called **activation function** is responsible for performing a non linear transformation of the values of each layer\n",
    "\\begin{equation}\n",
    " y_{\\mu} = f \\left( b_{\\mu} + \\sum_{\\nu} W_{\\mu \\nu} a_{\\nu} \\right) ,\n",
    "\\end{equation}\n",
    "This activation function can assume different forms:\n",
    "\n",
    "![](https://miro.medium.com/max/1200/1*ZafDv3VUm60Eh10OeJu1vw.png)\n",
    "###### [Image source: [https://miro.medium.com/max/1200/1*ZafDv3VUm60Eh10OeJu1vw.png](https://miro.medium.com/max/1200/1*ZafDv3VUm60Eh10OeJu1vw.png)]"
   ]
  },
  {
   "cell_type": "markdown",
   "id": "c5c3171d-bd37-4a25-8916-949c5f07ee69",
   "metadata": {},
   "source": [
    "During the **training process** these _weights_ are adjusted through **epochs** in order to minimize the difference between the network predictions $y_{pred}$, and the target values $y_{target}$ through the minimization of a **loss function** (that also can assume different forms). In this tutorial we are going to use the **Mean Squared Error** (**MSE**)\n",
    "\\begin{equation}\n",
    " MSE = \\frac{1}{m} \\sum_{i = 1}^m (y_{pred} - y_{target})^2 ,\n",
    "\\end{equation}"
   ]
  },
  {
   "cell_type": "markdown",
   "id": "63e0e03e-131b-46bf-a7b0-a168706d739b",
   "metadata": {},
   "source": [
    "### 5.1) Defining the model\n",
    "\n",
    "Let's define a simple NN according to:"
   ]
  },
  {
   "cell_type": "code",
   "execution_count": 27,
   "id": "e9baec30-81ca-4dea-8212-bf6275867797",
   "metadata": {},
   "outputs": [],
   "source": [
    "def base_model():\n",
    "    model = models.Sequential() \n",
    "    model.add(layers.Dense(64, activation = 'relu', input_shape = (X_train.shape[1],)))\n",
    "    model.add(layers.Dense(32, activation = 'relu'))\n",
    "    model.add(layers.Dense(1))\n",
    "    \n",
    "    print(model.summary())\n",
    "    \n",
    "    model.compile(optimizer = 'Adam', loss = 'mse')\n",
    "    \n",
    "    return model"
   ]
  },
  {
   "cell_type": "markdown",
   "id": "a50d8cdb-d0d7-4f82-82a5-e95959bc9e42",
   "metadata": {},
   "source": [
    "And we can visualize the model, as well their details, instantiating the model:"
   ]
  },
  {
   "cell_type": "code",
   "execution_count": 28,
   "id": "cc9a53bf-e27f-4944-80b3-9376453d9073",
   "metadata": {},
   "outputs": [
    {
     "name": "stderr",
     "output_type": "stream",
     "text": [
      "/Users/natalidesanti/env_pytorch/lib/python3.11/site-packages/keras/src/layers/core/dense.py:87: UserWarning: Do not pass an `input_shape`/`input_dim` argument to a layer. When using Sequential models, prefer using an `Input(shape)` object as the first layer in the model instead.\n",
      "  super().__init__(activity_regularizer=activity_regularizer, **kwargs)\n"
     ]
    },
    {
     "data": {
      "text/html": [
       "<pre style=\"white-space:pre;overflow-x:auto;line-height:normal;font-family:Menlo,'DejaVu Sans Mono',consolas,'Courier New',monospace\"><span style=\"font-weight: bold\">Model: \"sequential\"</span>\n",
       "</pre>\n"
      ],
      "text/plain": [
       "\u001b[1mModel: \"sequential\"\u001b[0m\n"
      ]
     },
     "metadata": {},
     "output_type": "display_data"
    },
    {
     "data": {
      "text/html": [
       "<pre style=\"white-space:pre;overflow-x:auto;line-height:normal;font-family:Menlo,'DejaVu Sans Mono',consolas,'Courier New',monospace\">┏━━━━━━━━━━━━━━━━━━━━━━━━━━━━━━━━━┳━━━━━━━━━━━━━━━━━━━━━━━━┳━━━━━━━━━━━━━━━┓\n",
       "┃<span style=\"font-weight: bold\"> Layer (type)                    </span>┃<span style=\"font-weight: bold\"> Output Shape           </span>┃<span style=\"font-weight: bold\">       Param # </span>┃\n",
       "┡━━━━━━━━━━━━━━━━━━━━━━━━━━━━━━━━━╇━━━━━━━━━━━━━━━━━━━━━━━━╇━━━━━━━━━━━━━━━┩\n",
       "│ dense (<span style=\"color: #0087ff; text-decoration-color: #0087ff\">Dense</span>)                   │ (<span style=\"color: #00d7ff; text-decoration-color: #00d7ff\">None</span>, <span style=\"color: #00af00; text-decoration-color: #00af00\">64</span>)             │           <span style=\"color: #00af00; text-decoration-color: #00af00\">192</span> │\n",
       "├─────────────────────────────────┼────────────────────────┼───────────────┤\n",
       "│ dense_1 (<span style=\"color: #0087ff; text-decoration-color: #0087ff\">Dense</span>)                 │ (<span style=\"color: #00d7ff; text-decoration-color: #00d7ff\">None</span>, <span style=\"color: #00af00; text-decoration-color: #00af00\">32</span>)             │         <span style=\"color: #00af00; text-decoration-color: #00af00\">2,080</span> │\n",
       "├─────────────────────────────────┼────────────────────────┼───────────────┤\n",
       "│ dense_2 (<span style=\"color: #0087ff; text-decoration-color: #0087ff\">Dense</span>)                 │ (<span style=\"color: #00d7ff; text-decoration-color: #00d7ff\">None</span>, <span style=\"color: #00af00; text-decoration-color: #00af00\">1</span>)              │            <span style=\"color: #00af00; text-decoration-color: #00af00\">33</span> │\n",
       "└─────────────────────────────────┴────────────────────────┴───────────────┘\n",
       "</pre>\n"
      ],
      "text/plain": [
       "┏━━━━━━━━━━━━━━━━━━━━━━━━━━━━━━━━━┳━━━━━━━━━━━━━━━━━━━━━━━━┳━━━━━━━━━━━━━━━┓\n",
       "┃\u001b[1m \u001b[0m\u001b[1mLayer (type)                   \u001b[0m\u001b[1m \u001b[0m┃\u001b[1m \u001b[0m\u001b[1mOutput Shape          \u001b[0m\u001b[1m \u001b[0m┃\u001b[1m \u001b[0m\u001b[1m      Param #\u001b[0m\u001b[1m \u001b[0m┃\n",
       "┡━━━━━━━━━━━━━━━━━━━━━━━━━━━━━━━━━╇━━━━━━━━━━━━━━━━━━━━━━━━╇━━━━━━━━━━━━━━━┩\n",
       "│ dense (\u001b[38;5;33mDense\u001b[0m)                   │ (\u001b[38;5;45mNone\u001b[0m, \u001b[38;5;34m64\u001b[0m)             │           \u001b[38;5;34m192\u001b[0m │\n",
       "├─────────────────────────────────┼────────────────────────┼───────────────┤\n",
       "│ dense_1 (\u001b[38;5;33mDense\u001b[0m)                 │ (\u001b[38;5;45mNone\u001b[0m, \u001b[38;5;34m32\u001b[0m)             │         \u001b[38;5;34m2,080\u001b[0m │\n",
       "├─────────────────────────────────┼────────────────────────┼───────────────┤\n",
       "│ dense_2 (\u001b[38;5;33mDense\u001b[0m)                 │ (\u001b[38;5;45mNone\u001b[0m, \u001b[38;5;34m1\u001b[0m)              │            \u001b[38;5;34m33\u001b[0m │\n",
       "└─────────────────────────────────┴────────────────────────┴───────────────┘\n"
      ]
     },
     "metadata": {},
     "output_type": "display_data"
    },
    {
     "data": {
      "text/html": [
       "<pre style=\"white-space:pre;overflow-x:auto;line-height:normal;font-family:Menlo,'DejaVu Sans Mono',consolas,'Courier New',monospace\"><span style=\"font-weight: bold\"> Total params: </span><span style=\"color: #00af00; text-decoration-color: #00af00\">2,305</span> (9.00 KB)\n",
       "</pre>\n"
      ],
      "text/plain": [
       "\u001b[1m Total params: \u001b[0m\u001b[38;5;34m2,305\u001b[0m (9.00 KB)\n"
      ]
     },
     "metadata": {},
     "output_type": "display_data"
    },
    {
     "data": {
      "text/html": [
       "<pre style=\"white-space:pre;overflow-x:auto;line-height:normal;font-family:Menlo,'DejaVu Sans Mono',consolas,'Courier New',monospace\"><span style=\"font-weight: bold\"> Trainable params: </span><span style=\"color: #00af00; text-decoration-color: #00af00\">2,305</span> (9.00 KB)\n",
       "</pre>\n"
      ],
      "text/plain": [
       "\u001b[1m Trainable params: \u001b[0m\u001b[38;5;34m2,305\u001b[0m (9.00 KB)\n"
      ]
     },
     "metadata": {},
     "output_type": "display_data"
    },
    {
     "data": {
      "text/html": [
       "<pre style=\"white-space:pre;overflow-x:auto;line-height:normal;font-family:Menlo,'DejaVu Sans Mono',consolas,'Courier New',monospace\"><span style=\"font-weight: bold\"> Non-trainable params: </span><span style=\"color: #00af00; text-decoration-color: #00af00\">0</span> (0.00 B)\n",
       "</pre>\n"
      ],
      "text/plain": [
       "\u001b[1m Non-trainable params: \u001b[0m\u001b[38;5;34m0\u001b[0m (0.00 B)\n"
      ]
     },
     "metadata": {},
     "output_type": "display_data"
    },
    {
     "name": "stdout",
     "output_type": "stream",
     "text": [
      "None\n"
     ]
    },
    {
     "data": {
      "text/plain": [
       "<Sequential name=sequential, built=True>"
      ]
     },
     "execution_count": 28,
     "metadata": {},
     "output_type": "execute_result"
    }
   ],
   "source": [
    "my_model = base_model()\n",
    "my_model"
   ]
  },
  {
   "cell_type": "markdown",
   "id": "d2c391d4-7b80-4334-a9c5-85550b4940e7",
   "metadata": {},
   "source": [
    "### 5.2) Fitting the model"
   ]
  },
  {
   "cell_type": "code",
   "execution_count": 29,
   "id": "09896952-9220-4ff9-ab30-45de61c16dec",
   "metadata": {},
   "outputs": [
    {
     "name": "stdout",
     "output_type": "stream",
     "text": [
      "Epoch 1/100\n",
      "\u001b[1m7/7\u001b[0m \u001b[32m━━━━━━━━━━━━━━━━━━━━\u001b[0m\u001b[37m\u001b[0m \u001b[1m0s\u001b[0m 9ms/step - loss: 80.6377 - val_loss: 77.4774\n",
      "Epoch 2/100\n",
      "\u001b[1m7/7\u001b[0m \u001b[32m━━━━━━━━━━━━━━━━━━━━\u001b[0m\u001b[37m\u001b[0m \u001b[1m0s\u001b[0m 2ms/step - loss: 78.2796 - val_loss: 74.4116\n",
      "Epoch 3/100\n",
      "\u001b[1m7/7\u001b[0m \u001b[32m━━━━━━━━━━━━━━━━━━━━\u001b[0m\u001b[37m\u001b[0m \u001b[1m0s\u001b[0m 2ms/step - loss: 75.2215 - val_loss: 71.1224\n",
      "Epoch 4/100\n",
      "\u001b[1m7/7\u001b[0m \u001b[32m━━━━━━━━━━━━━━━━━━━━\u001b[0m\u001b[37m\u001b[0m \u001b[1m0s\u001b[0m 2ms/step - loss: 72.0006 - val_loss: 67.4985\n",
      "Epoch 5/100\n",
      "\u001b[1m7/7\u001b[0m \u001b[32m━━━━━━━━━━━━━━━━━━━━\u001b[0m\u001b[37m\u001b[0m \u001b[1m0s\u001b[0m 2ms/step - loss: 67.0840 - val_loss: 63.3046\n",
      "Epoch 6/100\n",
      "\u001b[1m7/7\u001b[0m \u001b[32m━━━━━━━━━━━━━━━━━━━━\u001b[0m\u001b[37m\u001b[0m \u001b[1m0s\u001b[0m 2ms/step - loss: 63.8174 - val_loss: 58.4672\n",
      "Epoch 7/100\n",
      "\u001b[1m7/7\u001b[0m \u001b[32m━━━━━━━━━━━━━━━━━━━━\u001b[0m\u001b[37m\u001b[0m \u001b[1m0s\u001b[0m 2ms/step - loss: 58.6658 - val_loss: 53.0487\n",
      "Epoch 8/100\n",
      "\u001b[1m7/7\u001b[0m \u001b[32m━━━━━━━━━━━━━━━━━━━━\u001b[0m\u001b[37m\u001b[0m \u001b[1m0s\u001b[0m 2ms/step - loss: 53.3767 - val_loss: 47.2064\n",
      "Epoch 9/100\n",
      "\u001b[1m7/7\u001b[0m \u001b[32m━━━━━━━━━━━━━━━━━━━━\u001b[0m\u001b[37m\u001b[0m \u001b[1m0s\u001b[0m 2ms/step - loss: 48.3076 - val_loss: 40.9615\n",
      "Epoch 10/100\n",
      "\u001b[1m7/7\u001b[0m \u001b[32m━━━━━━━━━━━━━━━━━━━━\u001b[0m\u001b[37m\u001b[0m \u001b[1m0s\u001b[0m 2ms/step - loss: 41.0657 - val_loss: 34.4262\n",
      "Epoch 11/100\n",
      "\u001b[1m7/7\u001b[0m \u001b[32m━━━━━━━━━━━━━━━━━━━━\u001b[0m\u001b[37m\u001b[0m \u001b[1m0s\u001b[0m 2ms/step - loss: 35.3392 - val_loss: 28.2132\n",
      "Epoch 12/100\n",
      "\u001b[1m7/7\u001b[0m \u001b[32m━━━━━━━━━━━━━━━━━━━━\u001b[0m\u001b[37m\u001b[0m \u001b[1m0s\u001b[0m 2ms/step - loss: 28.3554 - val_loss: 22.8757\n",
      "Epoch 13/100\n",
      "\u001b[1m7/7\u001b[0m \u001b[32m━━━━━━━━━━━━━━━━━━━━\u001b[0m\u001b[37m\u001b[0m \u001b[1m0s\u001b[0m 2ms/step - loss: 23.9125 - val_loss: 18.7885\n",
      "Epoch 14/100\n",
      "\u001b[1m7/7\u001b[0m \u001b[32m━━━━━━━━━━━━━━━━━━━━\u001b[0m\u001b[37m\u001b[0m \u001b[1m0s\u001b[0m 2ms/step - loss: 19.8170 - val_loss: 16.1863\n",
      "Epoch 15/100\n",
      "\u001b[1m7/7\u001b[0m \u001b[32m━━━━━━━━━━━━━━━━━━━━\u001b[0m\u001b[37m\u001b[0m \u001b[1m0s\u001b[0m 2ms/step - loss: 17.1225 - val_loss: 14.8233\n",
      "Epoch 16/100\n",
      "\u001b[1m7/7\u001b[0m \u001b[32m━━━━━━━━━━━━━━━━━━━━\u001b[0m\u001b[37m\u001b[0m \u001b[1m0s\u001b[0m 2ms/step - loss: 14.5581 - val_loss: 14.3133\n",
      "Epoch 17/100\n",
      "\u001b[1m7/7\u001b[0m \u001b[32m━━━━━━━━━━━━━━━━━━━━\u001b[0m\u001b[37m\u001b[0m \u001b[1m0s\u001b[0m 2ms/step - loss: 13.0071 - val_loss: 14.0748\n",
      "Epoch 18/100\n",
      "\u001b[1m7/7\u001b[0m \u001b[32m━━━━━━━━━━━━━━━━━━━━\u001b[0m\u001b[37m\u001b[0m \u001b[1m0s\u001b[0m 2ms/step - loss: 12.6736 - val_loss: 13.6363\n",
      "Epoch 19/100\n",
      "\u001b[1m7/7\u001b[0m \u001b[32m━━━━━━━━━━━━━━━━━━━━\u001b[0m\u001b[37m\u001b[0m \u001b[1m0s\u001b[0m 2ms/step - loss: 10.7090 - val_loss: 12.8671\n",
      "Epoch 20/100\n",
      "\u001b[1m7/7\u001b[0m \u001b[32m━━━━━━━━━━━━━━━━━━━━\u001b[0m\u001b[37m\u001b[0m \u001b[1m0s\u001b[0m 2ms/step - loss: 11.0911 - val_loss: 11.9058\n",
      "Epoch 21/100\n",
      "\u001b[1m7/7\u001b[0m \u001b[32m━━━━━━━━━━━━━━━━━━━━\u001b[0m\u001b[37m\u001b[0m \u001b[1m0s\u001b[0m 2ms/step - loss: 10.0395 - val_loss: 10.8174\n",
      "Epoch 22/100\n",
      "\u001b[1m7/7\u001b[0m \u001b[32m━━━━━━━━━━━━━━━━━━━━\u001b[0m\u001b[37m\u001b[0m \u001b[1m0s\u001b[0m 2ms/step - loss: 9.1678 - val_loss: 9.8103\n",
      "Epoch 23/100\n",
      "\u001b[1m7/7\u001b[0m \u001b[32m━━━━━━━━━━━━━━━━━━━━\u001b[0m\u001b[37m\u001b[0m \u001b[1m0s\u001b[0m 2ms/step - loss: 8.2931 - val_loss: 8.8270\n",
      "Epoch 24/100\n",
      "\u001b[1m7/7\u001b[0m \u001b[32m━━━━━━━━━━━━━━━━━━━━\u001b[0m\u001b[37m\u001b[0m \u001b[1m0s\u001b[0m 2ms/step - loss: 7.5021 - val_loss: 7.9779\n",
      "Epoch 25/100\n",
      "\u001b[1m7/7\u001b[0m \u001b[32m━━━━━━━━━━━━━━━━━━━━\u001b[0m\u001b[37m\u001b[0m \u001b[1m0s\u001b[0m 2ms/step - loss: 6.7538 - val_loss: 7.2100\n",
      "Epoch 26/100\n",
      "\u001b[1m7/7\u001b[0m \u001b[32m━━━━━━━━━━━━━━━━━━━━\u001b[0m\u001b[37m\u001b[0m \u001b[1m0s\u001b[0m 2ms/step - loss: 6.0052 - val_loss: 6.5260\n",
      "Epoch 27/100\n",
      "\u001b[1m7/7\u001b[0m \u001b[32m━━━━━━━━━━━━━━━━━━━━\u001b[0m\u001b[37m\u001b[0m \u001b[1m0s\u001b[0m 2ms/step - loss: 4.9199 - val_loss: 5.8072\n",
      "Epoch 28/100\n",
      "\u001b[1m7/7\u001b[0m \u001b[32m━━━━━━━━━━━━━━━━━━━━\u001b[0m\u001b[37m\u001b[0m \u001b[1m0s\u001b[0m 2ms/step - loss: 5.1062 - val_loss: 5.1464\n",
      "Epoch 29/100\n",
      "\u001b[1m7/7\u001b[0m \u001b[32m━━━━━━━━━━━━━━━━━━━━\u001b[0m\u001b[37m\u001b[0m \u001b[1m0s\u001b[0m 2ms/step - loss: 3.6626 - val_loss: 4.5684\n",
      "Epoch 30/100\n",
      "\u001b[1m7/7\u001b[0m \u001b[32m━━━━━━━━━━━━━━━━━━━━\u001b[0m\u001b[37m\u001b[0m \u001b[1m0s\u001b[0m 2ms/step - loss: 3.6758 - val_loss: 4.0286\n",
      "Epoch 31/100\n",
      "\u001b[1m7/7\u001b[0m \u001b[32m━━━━━━━━━━━━━━━━━━━━\u001b[0m\u001b[37m\u001b[0m \u001b[1m0s\u001b[0m 2ms/step - loss: 3.2053 - val_loss: 3.5632\n",
      "Epoch 32/100\n",
      "\u001b[1m7/7\u001b[0m \u001b[32m━━━━━━━━━━━━━━━━━━━━\u001b[0m\u001b[37m\u001b[0m \u001b[1m0s\u001b[0m 2ms/step - loss: 3.0601 - val_loss: 3.1451\n",
      "Epoch 33/100\n",
      "\u001b[1m7/7\u001b[0m \u001b[32m━━━━━━━━━━━━━━━━━━━━\u001b[0m\u001b[37m\u001b[0m \u001b[1m0s\u001b[0m 2ms/step - loss: 2.4076 - val_loss: 2.7821\n",
      "Epoch 34/100\n",
      "\u001b[1m7/7\u001b[0m \u001b[32m━━━━━━━━━━━━━━━━━━━━\u001b[0m\u001b[37m\u001b[0m \u001b[1m0s\u001b[0m 2ms/step - loss: 2.3158 - val_loss: 2.4979\n",
      "Epoch 35/100\n",
      "\u001b[1m7/7\u001b[0m \u001b[32m━━━━━━━━━━━━━━━━━━━━\u001b[0m\u001b[37m\u001b[0m \u001b[1m0s\u001b[0m 2ms/step - loss: 2.0490 - val_loss: 2.2417\n",
      "Epoch 36/100\n",
      "\u001b[1m7/7\u001b[0m \u001b[32m━━━━━━━━━━━━━━━━━━━━\u001b[0m\u001b[37m\u001b[0m \u001b[1m0s\u001b[0m 2ms/step - loss: 1.8324 - val_loss: 2.0054\n",
      "Epoch 37/100\n",
      "\u001b[1m7/7\u001b[0m \u001b[32m━━━━━━━━━━━━━━━━━━━━\u001b[0m\u001b[37m\u001b[0m \u001b[1m0s\u001b[0m 2ms/step - loss: 1.6168 - val_loss: 1.7935\n",
      "Epoch 38/100\n",
      "\u001b[1m7/7\u001b[0m \u001b[32m━━━━━━━━━━━━━━━━━━━━\u001b[0m\u001b[37m\u001b[0m \u001b[1m0s\u001b[0m 2ms/step - loss: 1.3191 - val_loss: 1.5864\n",
      "Epoch 39/100\n",
      "\u001b[1m7/7\u001b[0m \u001b[32m━━━━━━━━━━━━━━━━━━━━\u001b[0m\u001b[37m\u001b[0m \u001b[1m0s\u001b[0m 2ms/step - loss: 1.2136 - val_loss: 1.3894\n",
      "Epoch 40/100\n",
      "\u001b[1m7/7\u001b[0m \u001b[32m━━━━━━━━━━━━━━━━━━━━\u001b[0m\u001b[37m\u001b[0m \u001b[1m0s\u001b[0m 2ms/step - loss: 1.0204 - val_loss: 1.2448\n",
      "Epoch 41/100\n",
      "\u001b[1m7/7\u001b[0m \u001b[32m━━━━━━━━━━━━━━━━━━━━\u001b[0m\u001b[37m\u001b[0m \u001b[1m0s\u001b[0m 2ms/step - loss: 0.8738 - val_loss: 1.1301\n",
      "Epoch 42/100\n",
      "\u001b[1m7/7\u001b[0m \u001b[32m━━━━━━━━━━━━━━━━━━━━\u001b[0m\u001b[37m\u001b[0m \u001b[1m0s\u001b[0m 2ms/step - loss: 0.8073 - val_loss: 1.0191\n",
      "Epoch 43/100\n",
      "\u001b[1m7/7\u001b[0m \u001b[32m━━━━━━━━━━━━━━━━━━━━\u001b[0m\u001b[37m\u001b[0m \u001b[1m0s\u001b[0m 2ms/step - loss: 0.7215 - val_loss: 0.9185\n",
      "Epoch 44/100\n",
      "\u001b[1m7/7\u001b[0m \u001b[32m━━━━━━━━━━━━━━━━━━━━\u001b[0m\u001b[37m\u001b[0m \u001b[1m0s\u001b[0m 2ms/step - loss: 0.7079 - val_loss: 0.8292\n",
      "Epoch 45/100\n",
      "\u001b[1m7/7\u001b[0m \u001b[32m━━━━━━━━━━━━━━━━━━━━\u001b[0m\u001b[37m\u001b[0m \u001b[1m0s\u001b[0m 2ms/step - loss: 0.6534 - val_loss: 0.7266\n",
      "Epoch 46/100\n",
      "\u001b[1m7/7\u001b[0m \u001b[32m━━━━━━━━━━━━━━━━━━━━\u001b[0m\u001b[37m\u001b[0m \u001b[1m0s\u001b[0m 2ms/step - loss: 0.5807 - val_loss: 0.6357\n",
      "Epoch 47/100\n",
      "\u001b[1m7/7\u001b[0m \u001b[32m━━━━━━━━━━━━━━━━━━━━\u001b[0m\u001b[37m\u001b[0m \u001b[1m0s\u001b[0m 2ms/step - loss: 0.4713 - val_loss: 0.5820\n",
      "Epoch 48/100\n",
      "\u001b[1m7/7\u001b[0m \u001b[32m━━━━━━━━━━━━━━━━━━━━\u001b[0m\u001b[37m\u001b[0m \u001b[1m0s\u001b[0m 2ms/step - loss: 0.4359 - val_loss: 0.5254\n",
      "Epoch 49/100\n",
      "\u001b[1m7/7\u001b[0m \u001b[32m━━━━━━━━━━━━━━━━━━━━\u001b[0m\u001b[37m\u001b[0m \u001b[1m0s\u001b[0m 2ms/step - loss: 0.3919 - val_loss: 0.4512\n",
      "Epoch 50/100\n",
      "\u001b[1m7/7\u001b[0m \u001b[32m━━━━━━━━━━━━━━━━━━━━\u001b[0m\u001b[37m\u001b[0m \u001b[1m0s\u001b[0m 2ms/step - loss: 0.3518 - val_loss: 0.3971\n",
      "Epoch 51/100\n",
      "\u001b[1m7/7\u001b[0m \u001b[32m━━━━━━━━━━━━━━━━━━━━\u001b[0m\u001b[37m\u001b[0m \u001b[1m0s\u001b[0m 2ms/step - loss: 0.3738 - val_loss: 0.3580\n",
      "Epoch 52/100\n",
      "\u001b[1m7/7\u001b[0m \u001b[32m━━━━━━━━━━━━━━━━━━━━\u001b[0m\u001b[37m\u001b[0m \u001b[1m0s\u001b[0m 2ms/step - loss: 0.2788 - val_loss: 0.3273\n",
      "Epoch 53/100\n",
      "\u001b[1m7/7\u001b[0m \u001b[32m━━━━━━━━━━━━━━━━━━━━\u001b[0m\u001b[37m\u001b[0m \u001b[1m0s\u001b[0m 2ms/step - loss: 0.2593 - val_loss: 0.3044\n",
      "Epoch 54/100\n",
      "\u001b[1m7/7\u001b[0m \u001b[32m━━━━━━━━━━━━━━━━━━━━\u001b[0m\u001b[37m\u001b[0m \u001b[1m0s\u001b[0m 2ms/step - loss: 0.2359 - val_loss: 0.2812\n",
      "Epoch 55/100\n",
      "\u001b[1m7/7\u001b[0m \u001b[32m━━━━━━━━━━━━━━━━━━━━\u001b[0m\u001b[37m\u001b[0m \u001b[1m0s\u001b[0m 2ms/step - loss: 0.2393 - val_loss: 0.2510\n",
      "Epoch 56/100\n",
      "\u001b[1m7/7\u001b[0m \u001b[32m━━━━━━━━━━━━━━━━━━━━\u001b[0m\u001b[37m\u001b[0m \u001b[1m0s\u001b[0m 2ms/step - loss: 0.1986 - val_loss: 0.2251\n",
      "Epoch 57/100\n",
      "\u001b[1m7/7\u001b[0m \u001b[32m━━━━━━━━━━━━━━━━━━━━\u001b[0m\u001b[37m\u001b[0m \u001b[1m0s\u001b[0m 2ms/step - loss: 0.1916 - val_loss: 0.2088\n",
      "Epoch 58/100\n",
      "\u001b[1m7/7\u001b[0m \u001b[32m━━━━━━━━━━━━━━━━━━━━\u001b[0m\u001b[37m\u001b[0m \u001b[1m0s\u001b[0m 2ms/step - loss: 0.1775 - val_loss: 0.1940\n",
      "Epoch 59/100\n",
      "\u001b[1m7/7\u001b[0m \u001b[32m━━━━━━━━━━━━━━━━━━━━\u001b[0m\u001b[37m\u001b[0m \u001b[1m0s\u001b[0m 2ms/step - loss: 0.1538 - val_loss: 0.1812\n",
      "Epoch 60/100\n",
      "\u001b[1m7/7\u001b[0m \u001b[32m━━━━━━━━━━━━━━━━━━━━\u001b[0m\u001b[37m\u001b[0m \u001b[1m0s\u001b[0m 2ms/step - loss: 0.1517 - val_loss: 0.1675\n",
      "Epoch 61/100\n",
      "\u001b[1m7/7\u001b[0m \u001b[32m━━━━━━━━━━━━━━━━━━━━\u001b[0m\u001b[37m\u001b[0m \u001b[1m0s\u001b[0m 2ms/step - loss: 0.1249 - val_loss: 0.1563\n",
      "Epoch 62/100\n",
      "\u001b[1m7/7\u001b[0m \u001b[32m━━━━━━━━━━━━━━━━━━━━\u001b[0m\u001b[37m\u001b[0m \u001b[1m0s\u001b[0m 2ms/step - loss: 0.1402 - val_loss: 0.1451\n",
      "Epoch 63/100\n",
      "\u001b[1m7/7\u001b[0m \u001b[32m━━━━━━━━━━━━━━━━━━━━\u001b[0m\u001b[37m\u001b[0m \u001b[1m0s\u001b[0m 2ms/step - loss: 0.1130 - val_loss: 0.1336\n",
      "Epoch 64/100\n",
      "\u001b[1m7/7\u001b[0m \u001b[32m━━━━━━━━━━━━━━━━━━━━\u001b[0m\u001b[37m\u001b[0m \u001b[1m0s\u001b[0m 2ms/step - loss: 0.1119 - val_loss: 0.1259\n",
      "Epoch 65/100\n",
      "\u001b[1m7/7\u001b[0m \u001b[32m━━━━━━━━━━━━━━━━━━━━\u001b[0m\u001b[37m\u001b[0m \u001b[1m0s\u001b[0m 2ms/step - loss: 0.1018 - val_loss: 0.1204\n",
      "Epoch 66/100\n",
      "\u001b[1m7/7\u001b[0m \u001b[32m━━━━━━━━━━━━━━━━━━━━\u001b[0m\u001b[37m\u001b[0m \u001b[1m0s\u001b[0m 2ms/step - loss: 0.1259 - val_loss: 0.1166\n",
      "Epoch 67/100\n",
      "\u001b[1m7/7\u001b[0m \u001b[32m━━━━━━━━━━━━━━━━━━━━\u001b[0m\u001b[37m\u001b[0m \u001b[1m0s\u001b[0m 2ms/step - loss: 0.0933 - val_loss: 0.1119\n",
      "Epoch 68/100\n",
      "\u001b[1m7/7\u001b[0m \u001b[32m━━━━━━━━━━━━━━━━━━━━\u001b[0m\u001b[37m\u001b[0m \u001b[1m0s\u001b[0m 2ms/step - loss: 0.1032 - val_loss: 0.1078\n",
      "Epoch 69/100\n",
      "\u001b[1m7/7\u001b[0m \u001b[32m━━━━━━━━━━━━━━━━━━━━\u001b[0m\u001b[37m\u001b[0m \u001b[1m0s\u001b[0m 2ms/step - loss: 0.0864 - val_loss: 0.1036\n",
      "Epoch 70/100\n",
      "\u001b[1m7/7\u001b[0m \u001b[32m━━━━━━━━━━━━━━━━━━━━\u001b[0m\u001b[37m\u001b[0m \u001b[1m0s\u001b[0m 2ms/step - loss: 0.0816 - val_loss: 0.0996\n",
      "Epoch 71/100\n",
      "\u001b[1m7/7\u001b[0m \u001b[32m━━━━━━━━━━━━━━━━━━━━\u001b[0m\u001b[37m\u001b[0m \u001b[1m0s\u001b[0m 2ms/step - loss: 0.0779 - val_loss: 0.0964\n",
      "Epoch 72/100\n",
      "\u001b[1m7/7\u001b[0m \u001b[32m━━━━━━━━━━━━━━━━━━━━\u001b[0m\u001b[37m\u001b[0m \u001b[1m0s\u001b[0m 2ms/step - loss: 0.0835 - val_loss: 0.0939\n",
      "Epoch 73/100\n",
      "\u001b[1m7/7\u001b[0m \u001b[32m━━━━━━━━━━━━━━━━━━━━\u001b[0m\u001b[37m\u001b[0m \u001b[1m0s\u001b[0m 2ms/step - loss: 0.0794 - val_loss: 0.0903\n",
      "Epoch 74/100\n",
      "\u001b[1m7/7\u001b[0m \u001b[32m━━━━━━━━━━━━━━━━━━━━\u001b[0m\u001b[37m\u001b[0m \u001b[1m0s\u001b[0m 2ms/step - loss: 0.0879 - val_loss: 0.0869\n",
      "Epoch 75/100\n",
      "\u001b[1m7/7\u001b[0m \u001b[32m━━━━━━━━━━━━━━━━━━━━\u001b[0m\u001b[37m\u001b[0m \u001b[1m0s\u001b[0m 2ms/step - loss: 0.0748 - val_loss: 0.0843\n",
      "Epoch 76/100\n",
      "\u001b[1m7/7\u001b[0m \u001b[32m━━━━━━━━━━━━━━━━━━━━\u001b[0m\u001b[37m\u001b[0m \u001b[1m0s\u001b[0m 2ms/step - loss: 0.0631 - val_loss: 0.0821\n",
      "Epoch 77/100\n",
      "\u001b[1m7/7\u001b[0m \u001b[32m━━━━━━━━━━━━━━━━━━━━\u001b[0m\u001b[37m\u001b[0m \u001b[1m0s\u001b[0m 2ms/step - loss: 0.0689 - val_loss: 0.0816\n",
      "Epoch 78/100\n",
      "\u001b[1m7/7\u001b[0m \u001b[32m━━━━━━━━━━━━━━━━━━━━\u001b[0m\u001b[37m\u001b[0m \u001b[1m0s\u001b[0m 2ms/step - loss: 0.0647 - val_loss: 0.0783\n",
      "Epoch 79/100\n",
      "\u001b[1m7/7\u001b[0m \u001b[32m━━━━━━━━━━━━━━━━━━━━\u001b[0m\u001b[37m\u001b[0m \u001b[1m0s\u001b[0m 2ms/step - loss: 0.0667 - val_loss: 0.0761\n",
      "Epoch 80/100\n",
      "\u001b[1m7/7\u001b[0m \u001b[32m━━━━━━━━━━━━━━━━━━━━\u001b[0m\u001b[37m\u001b[0m \u001b[1m0s\u001b[0m 2ms/step - loss: 0.0617 - val_loss: 0.0737\n",
      "Epoch 81/100\n",
      "\u001b[1m7/7\u001b[0m \u001b[32m━━━━━━━━━━━━━━━━━━━━\u001b[0m\u001b[37m\u001b[0m \u001b[1m0s\u001b[0m 2ms/step - loss: 0.0625 - val_loss: 0.0732\n",
      "Epoch 82/100\n",
      "\u001b[1m7/7\u001b[0m \u001b[32m━━━━━━━━━━━━━━━━━━━━\u001b[0m\u001b[37m\u001b[0m \u001b[1m0s\u001b[0m 2ms/step - loss: 0.0626 - val_loss: 0.0731\n",
      "Epoch 83/100\n",
      "\u001b[1m7/7\u001b[0m \u001b[32m━━━━━━━━━━━━━━━━━━━━\u001b[0m\u001b[37m\u001b[0m \u001b[1m0s\u001b[0m 2ms/step - loss: 0.0655 - val_loss: 0.0711\n",
      "Epoch 84/100\n",
      "\u001b[1m7/7\u001b[0m \u001b[32m━━━━━━━━━━━━━━━━━━━━\u001b[0m\u001b[37m\u001b[0m \u001b[1m0s\u001b[0m 2ms/step - loss: 0.0607 - val_loss: 0.0699\n",
      "Epoch 85/100\n",
      "\u001b[1m7/7\u001b[0m \u001b[32m━━━━━━━━━━━━━━━━━━━━\u001b[0m\u001b[37m\u001b[0m \u001b[1m0s\u001b[0m 2ms/step - loss: 0.0626 - val_loss: 0.0688\n",
      "Epoch 86/100\n",
      "\u001b[1m7/7\u001b[0m \u001b[32m━━━━━━━━━━━━━━━━━━━━\u001b[0m\u001b[37m\u001b[0m \u001b[1m0s\u001b[0m 2ms/step - loss: 0.0614 - val_loss: 0.0659\n",
      "Epoch 87/100\n",
      "\u001b[1m7/7\u001b[0m \u001b[32m━━━━━━━━━━━━━━━━━━━━\u001b[0m\u001b[37m\u001b[0m \u001b[1m0s\u001b[0m 2ms/step - loss: 0.0565 - val_loss: 0.0643\n",
      "Epoch 88/100\n",
      "\u001b[1m7/7\u001b[0m \u001b[32m━━━━━━━━━━━━━━━━━━━━\u001b[0m\u001b[37m\u001b[0m \u001b[1m0s\u001b[0m 2ms/step - loss: 0.0546 - val_loss: 0.0641\n",
      "Epoch 89/100\n",
      "\u001b[1m7/7\u001b[0m \u001b[32m━━━━━━━━━━━━━━━━━━━━\u001b[0m\u001b[37m\u001b[0m \u001b[1m0s\u001b[0m 2ms/step - loss: 0.0554 - val_loss: 0.0644\n",
      "Epoch 90/100\n",
      "\u001b[1m7/7\u001b[0m \u001b[32m━━━━━━━━━━━━━━━━━━━━\u001b[0m\u001b[37m\u001b[0m \u001b[1m0s\u001b[0m 2ms/step - loss: 0.0601 - val_loss: 0.0649\n",
      "Epoch 91/100\n",
      "\u001b[1m7/7\u001b[0m \u001b[32m━━━━━━━━━━━━━━━━━━━━\u001b[0m\u001b[37m\u001b[0m \u001b[1m0s\u001b[0m 2ms/step - loss: 0.0538 - val_loss: 0.0625\n",
      "Epoch 92/100\n",
      "\u001b[1m7/7\u001b[0m \u001b[32m━━━━━━━━━━━━━━━━━━━━\u001b[0m\u001b[37m\u001b[0m \u001b[1m0s\u001b[0m 2ms/step - loss: 0.0552 - val_loss: 0.0609\n",
      "Epoch 93/100\n",
      "\u001b[1m7/7\u001b[0m \u001b[32m━━━━━━━━━━━━━━━━━━━━\u001b[0m\u001b[37m\u001b[0m \u001b[1m0s\u001b[0m 2ms/step - loss: 0.0546 - val_loss: 0.0606\n",
      "Epoch 94/100\n",
      "\u001b[1m7/7\u001b[0m \u001b[32m━━━━━━━━━━━━━━━━━━━━\u001b[0m\u001b[37m\u001b[0m \u001b[1m0s\u001b[0m 2ms/step - loss: 0.0501 - val_loss: 0.0615\n",
      "Epoch 95/100\n",
      "\u001b[1m7/7\u001b[0m \u001b[32m━━━━━━━━━━━━━━━━━━━━\u001b[0m\u001b[37m\u001b[0m \u001b[1m0s\u001b[0m 2ms/step - loss: 0.0579 - val_loss: 0.0607\n",
      "Epoch 96/100\n",
      "\u001b[1m7/7\u001b[0m \u001b[32m━━━━━━━━━━━━━━━━━━━━\u001b[0m\u001b[37m\u001b[0m \u001b[1m0s\u001b[0m 2ms/step - loss: 0.0569 - val_loss: 0.0603\n",
      "Epoch 97/100\n",
      "\u001b[1m7/7\u001b[0m \u001b[32m━━━━━━━━━━━━━━━━━━━━\u001b[0m\u001b[37m\u001b[0m \u001b[1m0s\u001b[0m 2ms/step - loss: 0.0549 - val_loss: 0.0591\n",
      "Epoch 98/100\n",
      "\u001b[1m7/7\u001b[0m \u001b[32m━━━━━━━━━━━━━━━━━━━━\u001b[0m\u001b[37m\u001b[0m \u001b[1m0s\u001b[0m 2ms/step - loss: 0.0513 - val_loss: 0.0593\n",
      "Epoch 99/100\n",
      "\u001b[1m7/7\u001b[0m \u001b[32m━━━━━━━━━━━━━━━━━━━━\u001b[0m\u001b[37m\u001b[0m \u001b[1m0s\u001b[0m 2ms/step - loss: 0.0490 - val_loss: 0.0598\n",
      "Epoch 100/100\n",
      "\u001b[1m7/7\u001b[0m \u001b[32m━━━━━━━━━━━━━━━━━━━━\u001b[0m\u001b[37m\u001b[0m \u001b[1m0s\u001b[0m 2ms/step - loss: 0.0514 - val_loss: 0.0600\n"
     ]
    },
    {
     "data": {
      "text/plain": [
       "<keras.src.callbacks.history.History at 0x17424fed0>"
      ]
     },
     "execution_count": 29,
     "metadata": {},
     "output_type": "execute_result"
    }
   ],
   "source": [
    "#Fitting data\n",
    "no_epochs = 100\n",
    "batch_size = 50\n",
    "validation_split = 0.2\n",
    "history = my_model.fit(X_train, y_train, epochs = no_epochs, batch_size = batch_size, validation_split = validation_split)\n",
    "history"
   ]
  },
  {
   "cell_type": "markdown",
   "id": "34c61663-cd4e-4d44-b33d-2e1541477f70",
   "metadata": {},
   "source": [
    "To see if we don't have over/under fitting we can analyse the validation and training losses"
   ]
  },
  {
   "cell_type": "code",
   "execution_count": 30,
   "id": "2448a8e3-e928-4619-9cd0-2ddcbf44d0bb",
   "metadata": {},
   "outputs": [],
   "source": [
    "train_loss = history.history['loss']\n",
    "train_val_loss = history.history['val_loss']\n",
    "epochs = range(1, len(train_loss) + 1)"
   ]
  },
  {
   "cell_type": "code",
   "execution_count": 31,
   "id": "85355296-80df-40a8-8e52-8a92060c4b73",
   "metadata": {},
   "outputs": [
    {
     "data": {
      "text/plain": [
       "Text(0.5, 0, 'Epochs')"
      ]
     },
     "execution_count": 31,
     "metadata": {},
     "output_type": "execute_result"
    },
    {
     "data": {
      "image/png": "[encoded data removed]",
      "text/plain": [
       "<Figure size 640x480 with 1 Axes>"
      ]
     },
     "metadata": {},
     "output_type": "display_data"
    }
   ],
   "source": [
    "plt.figure(dpi=100)\n",
    "plt.plot(epochs, train_loss, color = 'black',label = 'Loss')\n",
    "plt.scatter(epochs, train_val_loss, s = 5, color = 'red', label = 'Val Loss')\n",
    "plt.legend()  \n",
    "plt.title('MSE loss: All')\n",
    "plt.ylabel('Loss')\n",
    "plt.xlabel('Epochs')"
   ]
  },
  {
   "cell_type": "markdown",
   "id": "fa354762-5110-4bc3-a3b7-d6ac8c561e0d",
   "metadata": {},
   "source": [
    "### 5.3) Predictions"
   ]
  },
  {
   "cell_type": "code",
   "execution_count": 32,
   "id": "1b7387f8-071d-41fd-af8c-41de0ddc9174",
   "metadata": {},
   "outputs": [
    {
     "name": "stdout",
     "output_type": "stream",
     "text": [
      "\u001b[1m4/4\u001b[0m \u001b[32m━━━━━━━━━━━━━━━━━━━━\u001b[0m\u001b[37m\u001b[0m \u001b[1m0s\u001b[0m 5ms/step  \n"
     ]
    }
   ],
   "source": [
    "#Prediction\n",
    "prediction = my_model.predict(X_test)"
   ]
  },
  {
   "cell_type": "markdown",
   "id": "6d885ffd-4aef-45c0-980e-3a87f757c719",
   "metadata": {},
   "source": [
    "### 5.4) Checking for model performance"
   ]
  },
  {
   "cell_type": "markdown",
   "id": "849a8cd5-9b13-464f-a8f1-7bac0cca990a",
   "metadata": {},
   "source": [
    "#### a) MSE"
   ]
  },
  {
   "cell_type": "code",
   "execution_count": 33,
   "id": "8093affb-75f7-45ed-8269-ca314f716803",
   "metadata": {},
   "outputs": [
    {
     "data": {
      "text/plain": [
       "0.07228522449255803"
      ]
     },
     "execution_count": 33,
     "metadata": {},
     "output_type": "execute_result"
    }
   ],
   "source": [
    "#Scores\n",
    "MSE = mean_squared_error(prediction, y_test)\n",
    "MSE"
   ]
  },
  {
   "cell_type": "markdown",
   "id": "b7a9bd9c-7c1d-42c6-b372-ee0d08172993",
   "metadata": {},
   "source": [
    "#### b) Linear comparison"
   ]
  },
  {
   "cell_type": "code",
   "execution_count": 34,
   "id": "dbae9474-db22-486e-9e71-4211fb37ce9c",
   "metadata": {},
   "outputs": [
    {
     "data": {
      "text/plain": [
       "<matplotlib.legend.Legend at 0x343606110>"
      ]
     },
     "execution_count": 34,
     "metadata": {},
     "output_type": "execute_result"
    },
    {
     "data": {
      "image/png": "[encoded data removed]",
      "text/plain": [
       "<Figure size 640x480 with 1 Axes>"
      ]
     },
     "metadata": {},
     "output_type": "display_data"
    }
   ],
   "source": [
    "plt.figure(dpi = 100)\n",
    "plt.title('Galaxy prediction')\n",
    "plt.scatter(y_test, prediction, s = 5, color = 'C0', label = '$M_{\\star}$')\n",
    "plt.xlabel(r'Truth')\n",
    "plt.plot(y_test, y_test, color = 'black')\n",
    "plt.ylabel(r'Predition')\n",
    "plt.legend()"
   ]
  },
  {
   "cell_type": "markdown",
   "id": "afbd9935-d04a-4e5f-a2a0-78acc846538a",
   "metadata": {},
   "source": [
    "#### c) Histogram of the complete distribution"
   ]
  },
  {
   "cell_type": "code",
   "execution_count": 35,
   "id": "3fb14ce1-6470-4a05-87ae-9720d87f24c5",
   "metadata": {},
   "outputs": [
    {
     "data": {
      "image/png": "[encoded data removed]",
      "text/plain": [
       "<Figure size 640x480 with 1 Axes>"
      ]
     },
     "metadata": {},
     "output_type": "display_data"
    }
   ],
   "source": [
    "plt.figure(dpi = 100)\n",
    "plt.title('Galaxy prediction')\n",
    "\n",
    "bins = np.linspace(np.min(y_test), np.max(y_test), 10)\n",
    "plt.hist(y_test, bins = bins, color = 'gray', label = 'Truth')\n",
    "plt.hist(prediction, bins = bins, color = 'C0', alpha = 0.5, label = 'Predition')\n",
    "plt.xlabel(r'$M_{\\star}$')\n",
    "plt.ylabel(r'# galaxies')\n",
    "plt.legend()\n",
    "plt.yscale('log')"
   ]
  },
  {
   "cell_type": "markdown",
   "id": "9d844dfb-3f4b-40da-a4e5-1f64f1468369",
   "metadata": {},
   "source": [
    "Amazing! We have a way to predict stellar mass given halo properties!"
   ]
  },
  {
   "cell_type": "code",
   "execution_count": null,
   "id": "7fbba452-bbfa-488e-b3a3-25ada517958e",
   "metadata": {},
   "outputs": [],
   "source": []
  }
 ],
 "metadata": {
  "kernelspec": {
   "display_name": "env_pytorch",
   "language": "python",
   "name": "env_pytorch"
  },
  "language_info": {
   "codemirror_mode": {
    "name": "ipython",
    "version": 3
   },
   "file_extension": ".py",
   "mimetype": "text/x-python",
   "name": "python",
   "nbconvert_exporter": "python",
   "pygments_lexer": "ipython3",
   "version": "3.11.4"
  }
 },
 "nbformat": 4,
 "nbformat_minor": 5
}
